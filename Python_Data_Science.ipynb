{
  "nbformat": 4,
  "nbformat_minor": 0,
  "metadata": {
    "colab": {
      "provenance": [],
      "include_colab_link": true
    },
    "kernelspec": {
      "name": "python3",
      "display_name": "Python 3"
    },
    "language_info": {
      "name": "python"
    }
  },
  "cells": [
    {
      "cell_type": "markdown",
      "metadata": {
        "id": "view-in-github",
        "colab_type": "text"
      },
      "source": [
        "<a href=\"https://colab.research.google.com/github/dyaccu/Modelado_de_datos_con_Python/blob/main/Python_Data_Science.ipynb\" target=\"_parent\"><img src=\"https://colab.research.google.com/assets/colab-badge.svg\" alt=\"Open In Colab\"/></a>"
      ]
    },
    {
      "cell_type": "markdown",
      "source": [
        "# Python para Data Science\n",
        "\n",
        "Notebook para el curso de Python para Data Science publicado en la plataforma de [Alura Latam](https://www.aluracursos.com/)"
      ],
      "metadata": {
        "id": "lQx6Mmv0OJyT"
      }
    },
    {
      "cell_type": "markdown",
      "source": [
        "# Introducción a Python\n",
        "¡Vamos a conocer Python, nuestro ambiente de estudio, y también generaremos nuestro primer código en este lenguaje!"
      ],
      "metadata": {
        "id": "7SiB6JIpYKmY"
      }
    },
    {
      "cell_type": "markdown",
      "source": [
        "## Google Colaboratory\n",
        "\n",
        "Ya aprendimos qué es [Python](https://www.python.org/) y ahora aprenderemos a usar nuestra herramienta de ejecución [Google Colaboratory](https://colab.research.google.com/) para programar en un notebook interactivo.\n",
        "\n",
        "Vamos a probar algunas funciones de este ambiente."
      ],
      "metadata": {
        "id": "Yugfb3fCOYY9"
      }
    },
    {
      "cell_type": "markdown",
      "source": [
        " **`>>> Usa esta celda para mover <<<`**"
      ],
      "metadata": {
        "id": "2iUHQsJasJAk"
      }
    },
    {
      "cell_type": "code",
      "source": [],
      "metadata": {
        "id": "o7jrX_iKhdkU"
      },
      "execution_count": null,
      "outputs": []
    },
    {
      "cell_type": "markdown",
      "source": [
        "## ¡Hola mundo!\n",
        "\n",
        "Vamos a conocer un poco más de cerca nuestro notebook. Para ello ejecutaremos nuestro primer comando en Python: [`print()`](https://docs.python.org/3/library/functions.html#print)"
      ],
      "metadata": {
        "id": "aLSFP2V7XTfe"
      }
    },
    {
      "cell_type": "code",
      "source": [
        "print('Hola mundo')"
      ],
      "metadata": {
        "id": "0qZX8_ZQBYyk",
        "colab": {
          "base_uri": "https://localhost:8080/"
        },
        "outputId": "2f63739f-7439-4a38-d48e-fcdfea58c710"
      },
      "execution_count": 1,
      "outputs": [
        {
          "output_type": "stream",
          "name": "stdout",
          "text": [
            "Hola mundo\n"
          ]
        }
      ]
    },
    {
      "cell_type": "code",
      "source": [
        "print('Mi nombre es Damián y estos son mis primeros pasos en Python')"
      ],
      "metadata": {
        "colab": {
          "base_uri": "https://localhost:8080/"
        },
        "id": "pwv3_jeiVhkd",
        "outputId": "ea713261-0a78-4804-9f3b-bce8f1de054e"
      },
      "execution_count": 5,
      "outputs": [
        {
          "output_type": "stream",
          "name": "stdout",
          "text": [
            "Mi nombre es Damián y estos son mis primeros pasos en Python\n"
          ]
        }
      ]
    },
    {
      "cell_type": "code",
      "source": [
        "15"
      ],
      "metadata": {
        "colab": {
          "base_uri": "https://localhost:8080/"
        },
        "id": "RxtY41DtVrhl",
        "outputId": "a0564792-1764-4632-fbdb-159c68b2a4ca"
      },
      "execution_count": 6,
      "outputs": [
        {
          "output_type": "execute_result",
          "data": {
            "text/plain": [
              "15"
            ]
          },
          "metadata": {},
          "execution_count": 6
        }
      ]
    },
    {
      "cell_type": "markdown",
      "source": [
        "# **Desafío**: ¡Es hora de practicar!"
      ],
      "metadata": {
        "id": "Y4CgFlgUaIBA"
      }
    },
    {
      "cell_type": "markdown",
      "source": [
        "1 - Imprime la frase \"Escuela de Datos de Alura\"."
      ],
      "metadata": {
        "id": "K1k1Q_2pXUCI"
      }
    },
    {
      "cell_type": "code",
      "source": [
        "print('Escuela de Datos de Alura')"
      ],
      "metadata": {
        "colab": {
          "base_uri": "https://localhost:8080/"
        },
        "id": "yBSPW21IXTPW",
        "outputId": "d892a24c-3bac-48c6-8b04-3418d089bcac"
      },
      "execution_count": 7,
      "outputs": [
        {
          "output_type": "stream",
          "name": "stdout",
          "text": [
            "Escuela de Datos de Alura\n"
          ]
        }
      ]
    },
    {
      "cell_type": "markdown",
      "source": [
        "2 - Imprime tu nombre y tu apellido siguiendo la estructura a continuación:\n",
        "\n",
        "Nombre: [tu nombre]\n",
        "\n",
        "Apellido: [tu apellido]"
      ],
      "metadata": {
        "id": "bl5nmVsIXdXP"
      }
    },
    {
      "cell_type": "code",
      "source": [
        "print('Nombre: Damián')\n",
        "print('Apellido: Yaccuzzi')"
      ],
      "metadata": {
        "colab": {
          "base_uri": "https://localhost:8080/"
        },
        "id": "iIA26G6sXtj5",
        "outputId": "a242d98c-a4e6-4e07-f640-7bf5b12732a6"
      },
      "execution_count": 9,
      "outputs": [
        {
          "output_type": "stream",
          "name": "stdout",
          "text": [
            "Nombre: Damián\n",
            "Apellido: Yaccuzzi\n"
          ]
        }
      ]
    },
    {
      "cell_type": "markdown",
      "source": [
        "3 - Imprime tu primer nombre letra por letra. Por ejemplo, si mi nombre es Álvaro, la salida sería:\n",
        "\n",
        "Á\n",
        "\n",
        "L\n",
        "\n",
        "V\n",
        "\n",
        "A\n",
        "\n",
        "R\n",
        "\n",
        "O"
      ],
      "metadata": {
        "id": "LNPCS4H3YbQ3"
      }
    },
    {
      "cell_type": "code",
      "source": [
        "print('D')\n",
        "print('A')\n",
        "print('M')\n",
        "print('I')\n",
        "print('Á')\n",
        "print('N')"
      ],
      "metadata": {
        "colab": {
          "base_uri": "https://localhost:8080/"
        },
        "id": "_5rNc0WVYgtQ",
        "outputId": "422715a2-5e86-436a-9084-845b143271c5"
      },
      "execution_count": 11,
      "outputs": [
        {
          "output_type": "stream",
          "name": "stdout",
          "text": [
            "D\n",
            "A\n",
            "M\n",
            "I\n",
            "Á\n",
            "N\n"
          ]
        }
      ]
    },
    {
      "cell_type": "markdown",
      "source": [
        "4 - Imprime tu fecha de nacimiento en formato día mes año. Recuerda que los valores de día y año no deben estar entre comillas. Suponiendo una fecha de cumpleaños el 28 de febrero de 2003, el formato debe ser como el siguiente:\n",
        "\n",
        "28 febrero 2003"
      ],
      "metadata": {
        "id": "ZYu8d-rCY59o"
      }
    },
    {
      "cell_type": "code",
      "source": [
        "print(28,'febrero',2003)"
      ],
      "metadata": {
        "colab": {
          "base_uri": "https://localhost:8080/"
        },
        "id": "7t8ULqS0Y75K",
        "outputId": "734acdbd-a9c9-4fa9-e806-e87f13bbbf90"
      },
      "execution_count": 20,
      "outputs": [
        {
          "output_type": "stream",
          "name": "stdout",
          "text": [
            "28 febrero 2003\n"
          ]
        }
      ]
    },
    {
      "cell_type": "markdown",
      "source": [
        "5 - Imprime, en una sola instrucción print, el año actual en el que estás realizando este curso. El valor del año debe ser un dato numérico, y la salida de print debe ser la siguiente:\n",
        "\n",
        "Año actual: [año]"
      ],
      "metadata": {
        "id": "EVghOW3DZ_-4"
      }
    },
    {
      "cell_type": "code",
      "source": [
        "print('Año actual', 2025)"
      ],
      "metadata": {
        "colab": {
          "base_uri": "https://localhost:8080/"
        },
        "id": "xS57773PaAvg",
        "outputId": "4cb7fba5-cc17-4bef-a111-02697c5d884f"
      },
      "execution_count": 21,
      "outputs": [
        {
          "output_type": "stream",
          "name": "stdout",
          "text": [
            "Año actual 2025\n"
          ]
        }
      ]
    },
    {
      "cell_type": "markdown",
      "source": [
        "# Manipulando los datos\n",
        "\n",
        "Vamos a aprender sobre las variables en Python, cómo declararlas y utilizarlas además de conocer otros comandos de este lenguaje. :D"
      ],
      "metadata": {
        "id": "iP8uWQmFYFRs"
      }
    },
    {
      "cell_type": "markdown",
      "source": [
        "## Variables\n",
        "\n",
        "En Data Science trabajamos con varios tipos de datos e informaciones, entonces es esencial saber cómo trabajar con las variables."
      ],
      "metadata": {
        "id": "sLNVmnTbag1Z"
      }
    },
    {
      "cell_type": "markdown",
      "source": [
        "Las variables en Python se crean cuando atribuimos un valor a ella.\n",
        "\n",
        "Para esto, colocamos el nombre de la variable, el signo de igual (`=`) y el valor que queremos atribuirle."
      ],
      "metadata": {
        "id": "lsCY0wahAbf6"
      }
    },
    {
      "cell_type": "code",
      "source": [
        "5"
      ],
      "metadata": {
        "id": "vsHh5buZADND",
        "colab": {
          "base_uri": "https://localhost:8080/"
        },
        "outputId": "43b2a4db-6878-478d-fdaa-ee1edc3d1f97"
      },
      "execution_count": 22,
      "outputs": [
        {
          "output_type": "execute_result",
          "data": {
            "text/plain": [
              "5"
            ]
          },
          "metadata": {},
          "execution_count": 22
        }
      ]
    },
    {
      "cell_type": "code",
      "source": [
        "id(5)"
      ],
      "metadata": {
        "id": "sivPtqSjADQV",
        "colab": {
          "base_uri": "https://localhost:8080/"
        },
        "outputId": "57fbdece-079e-4de2-8d38-9d224f19db76"
      },
      "execution_count": 23,
      "outputs": [
        {
          "output_type": "execute_result",
          "data": {
            "text/plain": [
              "10750984"
            ]
          },
          "metadata": {},
          "execution_count": 23
        }
      ]
    },
    {
      "cell_type": "code",
      "source": [
        "edad = 5"
      ],
      "metadata": {
        "id": "JC8jO47wADlm"
      },
      "execution_count": 27,
      "outputs": []
    },
    {
      "cell_type": "code",
      "source": [
        "print(id(5))\n",
        "print(id(edad))"
      ],
      "metadata": {
        "colab": {
          "base_uri": "https://localhost:8080/"
        },
        "id": "nMh6DqVrsteO",
        "outputId": "20688016-7702-4a39-c97e-4a1397ca6691"
      },
      "execution_count": 29,
      "outputs": [
        {
          "output_type": "stream",
          "name": "stdout",
          "text": [
            "10750984\n",
            "10750984\n"
          ]
        }
      ]
    },
    {
      "cell_type": "code",
      "source": [
        "numerocinco = 5"
      ],
      "metadata": {
        "id": "iVy9soCPs7J-"
      },
      "execution_count": 30,
      "outputs": []
    },
    {
      "cell_type": "code",
      "source": [
        "id(numerocinco)"
      ],
      "metadata": {
        "colab": {
          "base_uri": "https://localhost:8080/"
        },
        "id": "82ojYajLtLMm",
        "outputId": "26a50dad-7319-4429-dc89-c1aa9a7d44bb"
      },
      "execution_count": 33,
      "outputs": [
        {
          "output_type": "execute_result",
          "data": {
            "text/plain": [
              "10750984"
            ]
          },
          "metadata": {},
          "execution_count": 33
        }
      ]
    },
    {
      "cell_type": "code",
      "source": [
        "nombre = 'Gabriel'"
      ],
      "metadata": {
        "id": "9ZEg0frotLPn"
      },
      "execution_count": 35,
      "outputs": []
    },
    {
      "cell_type": "code",
      "source": [
        "id('Gabriel')"
      ],
      "metadata": {
        "colab": {
          "base_uri": "https://localhost:8080/"
        },
        "id": "nBxhGJsftve3",
        "outputId": "b6125418-ea34-4410-cbfe-d6927bc8e753"
      },
      "execution_count": 36,
      "outputs": [
        {
          "output_type": "execute_result",
          "data": {
            "text/plain": [
              "136492684708976"
            ]
          },
          "metadata": {},
          "execution_count": 36
        }
      ]
    },
    {
      "cell_type": "code",
      "source": [
        "id(nombre)"
      ],
      "metadata": {
        "colab": {
          "base_uri": "https://localhost:8080/"
        },
        "id": "Mr0yzKJutvvX",
        "outputId": "df20ca40-c5ff-4d50-cafc-2d486c624624"
      },
      "execution_count": 37,
      "outputs": [
        {
          "output_type": "execute_result",
          "data": {
            "text/plain": [
              "136492684708976"
            ]
          },
          "metadata": {},
          "execution_count": 37
        }
      ]
    },
    {
      "cell_type": "markdown",
      "source": [
        "Existen algunos tipos de nomes que **no** podemos definir para las variables:\n",
        "\n",
        "- **Nombres que comiencen con números**\n",
        "  - Ejemplos: `10_notas`, `2_nombre_casa`, etc.\n",
        "- **Palabras separadas por espacio**\n",
        "  - Ejemplos: `Nombre escuela`, `notas estudiantes`, etc.\n",
        "- **Nombres de funciones de Python**\n",
        "  - Ejemplos: `print`, `type`, etc."
      ],
      "metadata": {
        "id": "om2N0jHKAzwL"
      }
    },
    {
      "cell_type": "markdown",
      "source": [
        "> Las letras mayúsculas y minúsculas generarán diferentes variables. La variable `edad` es diferente de `Edad` que a su vez es diferente de `EDAD`:\n",
        "``` Python\n",
        "edad = 1\n",
        "Edad = 2\n",
        "EDAD = 3\n",
        "_edad = 4\n",
        "_edad_ = 5\n",
        "print(edad, Edad, EDAD, _edad, _edad_)\n",
        "1 2 3 4 5\n",
        "```"
      ],
      "metadata": {
        "id": "A19vY2GVMujB"
      }
    },
    {
      "cell_type": "markdown",
      "source": [
        "## Tipos de variables\n",
        "\n",
        "Cada variable contiene una clase específica con respecto al tipo de objeto al cual esta hace referencia. Estas clases serán diferentes de acuerdo con el tipo de dato que le sea atribuido a una variable.\n",
        "\n",
        "Para conocer la clase de cada elemento usamos la función [`type()`](https://docs.python.org/3/library/functions.html#type)"
      ],
      "metadata": {
        "id": "UqhzuBhBHsps"
      }
    },
    {
      "cell_type": "code",
      "source": [
        "edad = 5"
      ],
      "metadata": {
        "id": "J5a9t73A_-PX"
      },
      "execution_count": 38,
      "outputs": []
    },
    {
      "cell_type": "code",
      "source": [
        "type(edad)"
      ],
      "metadata": {
        "id": "rqmO1ew-_-So",
        "colab": {
          "base_uri": "https://localhost:8080/"
        },
        "outputId": "e4f5f473-948f-4a87-94b6-e3791c29e174"
      },
      "execution_count": 39,
      "outputs": [
        {
          "output_type": "execute_result",
          "data": {
            "text/plain": [
              "int"
            ]
          },
          "metadata": {},
          "execution_count": 39
        }
      ]
    },
    {
      "cell_type": "code",
      "source": [
        "promedio = 9.5\n",
        "type(promedio)"
      ],
      "metadata": {
        "id": "xkrPMkeY_-cP",
        "colab": {
          "base_uri": "https://localhost:8080/"
        },
        "outputId": "047f0100-478b-4b65-a255-c3af67324cab"
      },
      "execution_count": 40,
      "outputs": [
        {
          "output_type": "execute_result",
          "data": {
            "text/plain": [
              "float"
            ]
          },
          "metadata": {},
          "execution_count": 40
        }
      ]
    },
    {
      "cell_type": "code",
      "source": [
        "nombre ='Damián'\n",
        "type(nombre)"
      ],
      "metadata": {
        "colab": {
          "base_uri": "https://localhost:8080/"
        },
        "id": "unF2sBnMuiuI",
        "outputId": "8be3caf9-b7ae-4921-c260-eb82bf699828"
      },
      "execution_count": 41,
      "outputs": [
        {
          "output_type": "execute_result",
          "data": {
            "text/plain": [
              "str"
            ]
          },
          "metadata": {},
          "execution_count": 41
        }
      ]
    },
    {
      "cell_type": "code",
      "source": [
        "v = True\n",
        "type (v)"
      ],
      "metadata": {
        "colab": {
          "base_uri": "https://localhost:8080/"
        },
        "id": "26fRZtCzui5X",
        "outputId": "d19f5fdd-e4cd-4a1c-edd1-709eca294c59"
      },
      "execution_count": 42,
      "outputs": [
        {
          "output_type": "execute_result",
          "data": {
            "text/plain": [
              "bool"
            ]
          },
          "metadata": {},
          "execution_count": 42
        }
      ]
    },
    {
      "cell_type": "markdown",
      "source": [
        "En un conjunto de datos escolares podemos tener varios tipos de informaciones. Supongamos que tenemos acceso a la ficha de datos del alumno *Penélope Camacho*, cómo transformamos este nombre en variables de Python?\n",
        "\n",
        "#### Ficha:\n",
        "\n",
        "- Nombre: Penélope Camacho\n",
        "- Edad: 11 años\n",
        "- Promedio del semestre: 9,75\n",
        "- Situación de aprobación: Verdadera (aprobado)"
      ],
      "metadata": {
        "id": "O-FxDumfWu0C"
      }
    },
    {
      "cell_type": "code",
      "source": [
        "nombre = 'Penélope Camacho'\n",
        "edad = 11\n",
        "promedio = 9.75\n",
        "aprobado = True\n",
        "\n",
        "print(nombre, edad, promedio, aprobado)\n",
        "print(type(nombre), type(edad), type(promedio), type(aprobado))"
      ],
      "metadata": {
        "id": "FabQ7jQf_8Xt",
        "colab": {
          "base_uri": "https://localhost:8080/"
        },
        "outputId": "1bf1a6a3-7932-463e-9e81-28c7d8895fcc"
      },
      "execution_count": 46,
      "outputs": [
        {
          "output_type": "stream",
          "name": "stdout",
          "text": [
            "Penélope Camacho 11 9.75 True\n",
            "<class 'str'> <class 'int'> <class 'float'> <class 'bool'>\n"
          ]
        }
      ]
    },
    {
      "cell_type": "markdown",
      "source": [
        "## Variables numéricas\n",
        "\n",
        "Entre los tipos de datos numéricos vamos a enfocarnos en los tipos `entero` y `float`."
      ],
      "metadata": {
        "id": "KFq_8Sxf-OG0"
      }
    },
    {
      "cell_type": "markdown",
      "source": [
        "Tenemos una tabla de información sobre los diversos cargos, cantidad de personas empleadas y el salario correspondiente:\n",
        "\n",
        "|Cargo | Cantidad | Salario|\n",
        "|---|---|---|\n",
        "|Vigilante | 5 | 300 |\n",
        "|Docente | 16| 500|\n",
        "|Coordinador| 2 |600|\n",
        "\n",
        "Necesitamos trabajar con estos datos para obtener:\n",
        "\n",
        "- La cantidad total de empleados;\n",
        "- La diferencia entre el salario más bajo y más alto; y\n",
        "- El promedio ponderado de los salarios de los empleados de la escuela."
      ],
      "metadata": {
        "id": "8_HYUbkVYdQY"
      }
    },
    {
      "cell_type": "code",
      "source": [
        "c_vigilante = 5\n",
        "s_vigilante = 300\n",
        "\n",
        "c_docente = 16\n",
        "s_docente = 500\n",
        "\n",
        "c_coordinador = 2\n",
        "s_corrdinador = 600"
      ],
      "metadata": {
        "id": "F_X-wxdm_5Ys"
      },
      "execution_count": 47,
      "outputs": []
    },
    {
      "cell_type": "code",
      "source": [
        "total_empleados = c_vigilante + c_docente + c_coordinador\n",
        "total_empleados"
      ],
      "metadata": {
        "id": "gKmBbhII_5b9",
        "colab": {
          "base_uri": "https://localhost:8080/"
        },
        "outputId": "704571a4-4b1e-499d-96d5-8af66c6fefff"
      },
      "execution_count": 49,
      "outputs": [
        {
          "output_type": "execute_result",
          "data": {
            "text/plain": [
              "23"
            ]
          },
          "metadata": {},
          "execution_count": 49
        }
      ]
    },
    {
      "cell_type": "code",
      "source": [
        "diferencia_salario = s_corrdinador - s_vigilante\n",
        "diferencia_salario"
      ],
      "metadata": {
        "id": "fIugsxNy_53j",
        "colab": {
          "base_uri": "https://localhost:8080/"
        },
        "outputId": "fb727db4-9396-4f1c-8925-cf1ee2a0c121"
      },
      "execution_count": 50,
      "outputs": [
        {
          "output_type": "execute_result",
          "data": {
            "text/plain": [
              "300"
            ]
          },
          "metadata": {},
          "execution_count": 50
        }
      ]
    },
    {
      "cell_type": "code",
      "source": [
        "promedio_salarios = (c_vigilante * s_vigilante + c_docente * s_docente\n",
        "                     + c_coordinador * s_corrdinador) / total_empleados\n",
        "promedio_salarios"
      ],
      "metadata": {
        "colab": {
          "base_uri": "https://localhost:8080/"
        },
        "id": "66lJjtFcwtkK",
        "outputId": "9fa87edd-f472-4b71-b1e6-c3d4d5f34e87"
      },
      "execution_count": 51,
      "outputs": [
        {
          "output_type": "execute_result",
          "data": {
            "text/plain": [
              "465.2173913043478"
            ]
          },
          "metadata": {},
          "execution_count": 51
        }
      ]
    },
    {
      "cell_type": "code",
      "source": [
        "type(promedio_salarios)"
      ],
      "metadata": {
        "colab": {
          "base_uri": "https://localhost:8080/"
        },
        "id": "YvfkCxmtwtuh",
        "outputId": "f4de720b-c21e-409f-ddf6-700c5dbf7ac9"
      },
      "execution_count": 52,
      "outputs": [
        {
          "output_type": "execute_result",
          "data": {
            "text/plain": [
              "float"
            ]
          },
          "metadata": {},
          "execution_count": 52
        }
      ]
    },
    {
      "cell_type": "markdown",
      "source": [
        "## Strings"
      ],
      "metadata": {
        "id": "yQy7b0ZWoD-P"
      }
    },
    {
      "cell_type": "markdown",
      "source": [
        "Strings hace referencia a un conjunto de caracteres formando un texto.\n",
        "\n",
        "Podemos crear Strings cuando atribuimos un dato a una variable entre comillas sencillas (`'`) o comillas dobles (`\"`)."
      ],
      "metadata": {
        "id": "vlo2-DXusv3s"
      }
    },
    {
      "cell_type": "code",
      "source": [
        "t = 'Alura'\n",
        "type (t)"
      ],
      "metadata": {
        "id": "ityEWqvh_2wK",
        "colab": {
          "base_uri": "https://localhost:8080/"
        },
        "outputId": "6390768f-60e1-45d4-ac60-947694ede204"
      },
      "execution_count": 53,
      "outputs": [
        {
          "output_type": "execute_result",
          "data": {
            "text/plain": [
              "str"
            ]
          },
          "metadata": {},
          "execution_count": 53
        }
      ]
    },
    {
      "cell_type": "markdown",
      "source": [
        "Las variables textuales son objetos que poseen métodos que nos ayudan a formatear strings. Los métodos los podemos ejecutar al definir un objeto de acuerdo con la siguiente estructura:\n",
        "\n",
        "```\n",
        "objeto.metodo()\n",
        "```\n",
        "\n",
        "Existen métodos que no necesitan los `()`, siempre es una buena práctica verificar la documentación para cada caso."
      ],
      "metadata": {
        "id": "2e9UD_CCxqz_"
      }
    },
    {
      "cell_type": "markdown",
      "source": [
        "---\n",
        "**Situación:**\n",
        "\n",
        "Recibimos una variable con el nombre de una profesora de la escuela para añadirla a los registros. Sin embargo, necesitamos darle un tratamiento a este texto antes de insertarlo al sistema."
      ],
      "metadata": {
        "id": "p6aPmMGP4tf9"
      }
    },
    {
      "cell_type": "code",
      "source": [
        "texto = '  Micaela de los Sanyos '\n",
        "id(texto)"
      ],
      "metadata": {
        "id": "icDWtYTjBO0n",
        "colab": {
          "base_uri": "https://localhost:8080/"
        },
        "outputId": "2b1c394b-be62-4fb2-d41a-91e0eff10963"
      },
      "execution_count": 54,
      "outputs": [
        {
          "output_type": "execute_result",
          "data": {
            "text/plain": [
              "136492429363280"
            ]
          },
          "metadata": {},
          "execution_count": 54
        }
      ]
    },
    {
      "cell_type": "markdown",
      "source": [
        "El objetivo final es que el nombre aparezca de la siguiente forma:\n",
        "\n",
        "```\n",
        "'MICAELA DE LOS SANTOS'\n",
        "```"
      ],
      "metadata": {
        "id": "Dg2ZXSZOGzjC"
      }
    },
    {
      "cell_type": "markdown",
      "source": [
        "### [`str.upper()` ](https://docs.python.org/3/library/stdtypes.html#str.upper)\n",
        "Convierte una string a mayúsculas."
      ],
      "metadata": {
        "id": "iVTAD8q702eN"
      }
    },
    {
      "cell_type": "code",
      "source": [
        "texto.upper()"
      ],
      "metadata": {
        "id": "wMVshJrY_ZXh",
        "colab": {
          "base_uri": "https://localhost:8080/",
          "height": 35
        },
        "outputId": "a88a549e-c2c9-46ec-81f7-f2ab4f07c516"
      },
      "execution_count": 55,
      "outputs": [
        {
          "output_type": "execute_result",
          "data": {
            "text/plain": [
              "'  MICAELA DE LOS SANYOS '"
            ],
            "application/vnd.google.colaboratory.intrinsic+json": {
              "type": "string"
            }
          },
          "metadata": {},
          "execution_count": 55
        }
      ]
    },
    {
      "cell_type": "markdown",
      "source": [
        "### [`str.lower()`](https://docs.python.org/3/library/stdtypes.html#str.lower)\n",
        "Convierte una string a minúsculas."
      ],
      "metadata": {
        "id": "hbDSBtMV1TpG"
      }
    },
    {
      "cell_type": "code",
      "source": [
        "texto.lower()"
      ],
      "metadata": {
        "id": "px3yEeNH_YK4",
        "colab": {
          "base_uri": "https://localhost:8080/",
          "height": 35
        },
        "outputId": "fd753678-bb7b-4ef4-8384-e692e7d544f8"
      },
      "execution_count": 57,
      "outputs": [
        {
          "output_type": "execute_result",
          "data": {
            "text/plain": [
              "'  micaela de los sanyos '"
            ],
            "application/vnd.google.colaboratory.intrinsic+json": {
              "type": "string"
            }
          },
          "metadata": {},
          "execution_count": 57
        }
      ]
    },
    {
      "cell_type": "markdown",
      "source": [
        "### [`str.strip()`](https://docs.python.org/3/library/stdtypes.html#str.strip)\n",
        "Elimina los espacios en blanco al inicio y al final de una string."
      ],
      "metadata": {
        "id": "kz47eWM11gii"
      }
    },
    {
      "cell_type": "code",
      "source": [
        "texto.strip()"
      ],
      "metadata": {
        "id": "76dLgNa4_XAe",
        "colab": {
          "base_uri": "https://localhost:8080/",
          "height": 35
        },
        "outputId": "3a191db6-1f43-43b1-8b9a-9b71c0842fbc"
      },
      "execution_count": 58,
      "outputs": [
        {
          "output_type": "execute_result",
          "data": {
            "text/plain": [
              "'Micaela de los Sanyos'"
            ],
            "application/vnd.google.colaboratory.intrinsic+json": {
              "type": "string"
            }
          },
          "metadata": {},
          "execution_count": 58
        }
      ]
    },
    {
      "cell_type": "markdown",
      "source": [
        "### [`str.replace(antiguo, nuevo)`](https://docs.python.org/3/library/stdtypes.html#str.replace)\n",
        "\n",
        "Sustituye todas las ocurrencias del texto \"antiguo\" en la string por el  \"nuevo\"."
      ],
      "metadata": {
        "id": "m6notiyS1SCV"
      }
    },
    {
      "cell_type": "code",
      "source": [
        "texto.replace('y','t')"
      ],
      "metadata": {
        "id": "PNXAixtE_V6R",
        "colab": {
          "base_uri": "https://localhost:8080/",
          "height": 35
        },
        "outputId": "33cd7d3f-e9c9-44e1-d464-afacb116b656"
      },
      "execution_count": 60,
      "outputs": [
        {
          "output_type": "execute_result",
          "data": {
            "text/plain": [
              "'  Micaela de los Santos '"
            ],
            "application/vnd.google.colaboratory.intrinsic+json": {
              "type": "string"
            }
          },
          "metadata": {},
          "execution_count": 60
        }
      ]
    },
    {
      "cell_type": "markdown",
      "source": [
        "### Observaciones\n",
        "\n",
        "1. Los métodos devuelven una **tranformación**, no son ejecutados directamente sobre la variable donde está almacenado el texto.\n",
        "\n",
        "2. Adicionalmente, podemos acumular la ejecución de los métodos."
      ],
      "metadata": {
        "id": "zukvEjhG2Rcn"
      }
    },
    {
      "cell_type": "code",
      "source": [
        "texto"
      ],
      "metadata": {
        "colab": {
          "base_uri": "https://localhost:8080/",
          "height": 35
        },
        "id": "sX22AJZ48dGD",
        "outputId": "1231cfd0-a317-4483-e971-4c33720824b8"
      },
      "execution_count": 61,
      "outputs": [
        {
          "output_type": "execute_result",
          "data": {
            "text/plain": [
              "'  Micaela de los Sanyos '"
            ],
            "application/vnd.google.colaboratory.intrinsic+json": {
              "type": "string"
            }
          },
          "metadata": {},
          "execution_count": 61
        }
      ]
    },
    {
      "cell_type": "code",
      "source": [
        "id(texto)"
      ],
      "metadata": {
        "colab": {
          "base_uri": "https://localhost:8080/"
        },
        "id": "Zvy900dX8dPa",
        "outputId": "79778374-109c-4fb2-e6be-949ff731b643"
      },
      "execution_count": 62,
      "outputs": [
        {
          "output_type": "execute_result",
          "data": {
            "text/plain": [
              "136492429363280"
            ]
          },
          "metadata": {},
          "execution_count": 62
        }
      ]
    },
    {
      "cell_type": "markdown",
      "source": [
        "Para que la transformación se pueda ejecutar debemos atribuir la salida de las transformaciones a las variables"
      ],
      "metadata": {
        "id": "1KbwfVut2h6I"
      }
    },
    {
      "cell_type": "code",
      "source": [
        "nuevo_texto = texto.strip().replace('y','t').upper() #si pongo el atributo replace al final no funciona\n",
        "print(nuevo_texto)\n",
        "print(id(texto), id(nuevo_texto))"
      ],
      "metadata": {
        "colab": {
          "base_uri": "https://localhost:8080/"
        },
        "id": "wJR2NHdL8dfa",
        "outputId": "ad947e84-34f0-40de-fb16-c1e4c0ac1786"
      },
      "execution_count": 64,
      "outputs": [
        {
          "output_type": "stream",
          "name": "stdout",
          "text": [
            "MICAELA DE LOS SANTOS\n",
            "136492429363280 136492429407408\n"
          ]
        }
      ]
    },
    {
      "cell_type": "markdown",
      "source": [
        "## Capturando datos\n",
        "\n",
        "En algunas aplicaciones necesitamos capturar los valores del usuario de nuestro proyecto. En python, logramos capturar los datos del usuario a través del comando [`input()`](https://docs.python.org/3/library/functions.html#input).\n",
        "\n",
        "Para ejecutar la captura debemos atribuir el resultado de esta función a una variable."
      ],
      "metadata": {
        "id": "0h9Fh5G9kHCa"
      }
    },
    {
      "cell_type": "code",
      "source": [
        "nombre = input(\"Escribe tu nombre: \")"
      ],
      "metadata": {
        "id": "zbH_9i3q_PdY",
        "colab": {
          "base_uri": "https://localhost:8080/"
        },
        "outputId": "5872a5ce-825f-438f-b1bf-9bdcc646e50d"
      },
      "execution_count": 65,
      "outputs": [
        {
          "name": "stdout",
          "output_type": "stream",
          "text": [
            "Escribe tu nombre: Damián\n"
          ]
        }
      ]
    },
    {
      "cell_type": "code",
      "source": [
        "print(nombre)\n",
        "type(nombre)"
      ],
      "metadata": {
        "id": "JZy1Q9Tl_PgL",
        "colab": {
          "base_uri": "https://localhost:8080/"
        },
        "outputId": "7f804dfe-77ca-4479-f5d7-3a40710b3d18"
      },
      "execution_count": 68,
      "outputs": [
        {
          "output_type": "stream",
          "name": "stdout",
          "text": [
            "Damián\n"
          ]
        },
        {
          "output_type": "execute_result",
          "data": {
            "text/plain": [
              "str"
            ]
          },
          "metadata": {},
          "execution_count": 68
        }
      ]
    },
    {
      "cell_type": "markdown",
      "source": [
        "La salida de este comando siempre será una *string*. Esto quiere decir que aunque capturemos un valor de variable numérica, este será de tipo string.\n",
        "\n",
        "Entonces, será necesario **convertir el resultado cuando no se desea utilizar el valor como tipo string**."
      ],
      "metadata": {
        "id": "7z7hcLCk_aCY"
      }
    },
    {
      "cell_type": "markdown",
      "source": [
        "Existen funciones para la conversión de valores:\n",
        "\n",
        "- Enteros: [`int(dato_para_conversion)`](https://docs.python.org/3/library/functions.html#int)\n",
        "- Coma flotante: [`float(dato_para_conversion)`](https://docs.python.org/3/library/functions.html#float)\n",
        "- String: [`str(dato_para_conversion)`](https://docs.python.org/3/library/functions.html#func-str)\n",
        "- Booleano: [`bool(dato_para_conversion)`](https://docs.python.org/3/library/functions.html#bool)"
      ],
      "metadata": {
        "id": "TOlegATj1Jfp"
      }
    },
    {
      "cell_type": "code",
      "source": [
        "ano_admision = input ('Digita el año de admisión: ')"
      ],
      "metadata": {
        "id": "M2ueeH6l_NMe",
        "colab": {
          "base_uri": "https://localhost:8080/"
        },
        "outputId": "214e56c1-c566-4496-b5a9-7c9ed1066ab3"
      },
      "execution_count": 69,
      "outputs": [
        {
          "name": "stdout",
          "output_type": "stream",
          "text": [
            "Digita el año de admisión: 2023\n"
          ]
        }
      ]
    },
    {
      "cell_type": "code",
      "source": [
        "type(ano_admision)"
      ],
      "metadata": {
        "id": "xfWwuViK_NUn",
        "colab": {
          "base_uri": "https://localhost:8080/"
        },
        "outputId": "b75bf052-bdc5-4439-f739-b068112efd2d"
      },
      "execution_count": 70,
      "outputs": [
        {
          "output_type": "execute_result",
          "data": {
            "text/plain": [
              "str"
            ]
          },
          "metadata": {},
          "execution_count": 70
        }
      ]
    },
    {
      "cell_type": "code",
      "source": [
        "ano_salida = input ('Digita el año de salida: ')"
      ],
      "metadata": {
        "id": "uFCHDyew_NZm",
        "colab": {
          "base_uri": "https://localhost:8080/"
        },
        "outputId": "8c63ea53-d038-4262-be7e-82aa28c35fc7"
      },
      "execution_count": 71,
      "outputs": [
        {
          "name": "stdout",
          "output_type": "stream",
          "text": [
            "Digita el año de salida: 2024\n"
          ]
        }
      ]
    },
    {
      "cell_type": "code",
      "source": [
        "type(ano_salida)"
      ],
      "metadata": {
        "colab": {
          "base_uri": "https://localhost:8080/"
        },
        "id": "jMaAJjyBAHZf",
        "outputId": "5b1322a1-765a-4ae9-981a-8b4197c39050"
      },
      "execution_count": 72,
      "outputs": [
        {
          "output_type": "execute_result",
          "data": {
            "text/plain": [
              "str"
            ]
          },
          "metadata": {},
          "execution_count": 72
        }
      ]
    },
    {
      "cell_type": "code",
      "source": [
        "ano_admision + ano_salida"
      ],
      "metadata": {
        "colab": {
          "base_uri": "https://localhost:8080/",
          "height": 35
        },
        "id": "QqfbR8CJAHik",
        "outputId": "105c54b8-187a-47ad-b3f0-fc05b516fa9c"
      },
      "execution_count": 73,
      "outputs": [
        {
          "output_type": "execute_result",
          "data": {
            "text/plain": [
              "'20232024'"
            ],
            "application/vnd.google.colaboratory.intrinsic+json": {
              "type": "string"
            }
          },
          "metadata": {},
          "execution_count": 73
        }
      ]
    },
    {
      "cell_type": "code",
      "source": [
        "ano_admision = int(input ('Digita el año de admisión: '))"
      ],
      "metadata": {
        "colab": {
          "base_uri": "https://localhost:8080/"
        },
        "id": "D-iTwQRBATHI",
        "outputId": "a09ee028-dfe4-4d08-dcf9-38e177c9e296"
      },
      "execution_count": 74,
      "outputs": [
        {
          "name": "stdout",
          "output_type": "stream",
          "text": [
            "Digita el año de admisión: 2023\n"
          ]
        }
      ]
    },
    {
      "cell_type": "code",
      "source": [
        "type(ano_admision)"
      ],
      "metadata": {
        "colab": {
          "base_uri": "https://localhost:8080/"
        },
        "id": "bcY9ip5ZATXm",
        "outputId": "af605a74-3edd-41a5-9cd4-370271557bf3"
      },
      "execution_count": 75,
      "outputs": [
        {
          "output_type": "execute_result",
          "data": {
            "text/plain": [
              "int"
            ]
          },
          "metadata": {},
          "execution_count": 75
        }
      ]
    },
    {
      "cell_type": "code",
      "source": [
        "nota_admision = float(input ('Digita la nota de admisión: '))"
      ],
      "metadata": {
        "colab": {
          "base_uri": "https://localhost:8080/"
        },
        "id": "Uz4l1dOvATaj",
        "outputId": "8d641339-a858-4cae-8309-6e6a52d25e53"
      },
      "execution_count": 76,
      "outputs": [
        {
          "name": "stdout",
          "output_type": "stream",
          "text": [
            "Digita la nota de admisión: 9.5\n"
          ]
        }
      ]
    },
    {
      "cell_type": "code",
      "source": [
        "type(nota_admision)"
      ],
      "metadata": {
        "colab": {
          "base_uri": "https://localhost:8080/"
        },
        "id": "V3_TQPawATdy",
        "outputId": "68df920c-17d4-4f94-8662-ca2693127cb0"
      },
      "execution_count": 77,
      "outputs": [
        {
          "output_type": "execute_result",
          "data": {
            "text/plain": [
              "float"
            ]
          },
          "metadata": {},
          "execution_count": 77
        }
      ]
    },
    {
      "cell_type": "markdown",
      "source": [
        "Trataremos de representar mejor ahora el resultado de la transformación que obtuvimos. Nosotros podemos formatear y presentar nuestro resultado mezclando strings con valores no textuales.\n",
        "\n",
        "Para ello utilizamos la estructura de formatación `f` con strings."
      ],
      "metadata": {
        "id": "yNI2-XTbB3aS"
      }
    },
    {
      "cell_type": "code",
      "source": [
        "print(f'\\tEl año de admisión fue {ano_admision} \\n\\tLa nota de admisión fue: {nota_admision}')"
      ],
      "metadata": {
        "id": "keJjA5N9_K5i",
        "colab": {
          "base_uri": "https://localhost:8080/"
        },
        "outputId": "ab20e9ea-dfba-439c-c61f-398a1dccbc92"
      },
      "execution_count": 78,
      "outputs": [
        {
          "output_type": "stream",
          "name": "stdout",
          "text": [
            "\tEl año de admisión fue 2023 \n",
            "\tLa nota de admisión fue: 9.5\n"
          ]
        }
      ]
    },
    {
      "cell_type": "markdown",
      "source": [
        "# **Desafío**: ¡Es hora de practicar!"
      ],
      "metadata": {
        "id": "0eS9Lw7wBvaC"
      }
    },
    {
      "cell_type": "markdown",
      "source": [
        "## Recopilación y muestra de datos\n",
        "1 - Crea un programa que solicite al usuario que escriba su nombre y luego imprima \"Hola, [nombre].\"\n",
        "\n",
        "2 - Crea un programa que solicite al usuario que escriba su nombre y edad, y luego imprima \"Hola, [nombre], tienes [edad] años.\"\n",
        "\n",
        "3 - Crea un programa que solicite al usuario que escriba su nombre, edad y altura en metros, y luego imprima \"Hola, [nombre], tienes [edad] años y mides [altura] metros.\""
      ],
      "metadata": {
        "id": "DGUG_fxdCUnJ"
      }
    },
    {
      "cell_type": "code",
      "source": [
        "nombre = input('Escriba su nombre: ')\n",
        "print('Hola', nombre)\n",
        "print(f'¡Hola, {nombre}!')"
      ],
      "metadata": {
        "colab": {
          "base_uri": "https://localhost:8080/"
        },
        "id": "GOyp9EYeB0YG",
        "outputId": "6e460d48-a4ed-4f8d-baf1-0dcd3f885181"
      },
      "execution_count": 122,
      "outputs": [
        {
          "output_type": "stream",
          "name": "stdout",
          "text": [
            "Escriba su nombre: Ana\n",
            "Hola Ana\n",
            "¡Hola, Ana!\n"
          ]
        }
      ]
    },
    {
      "cell_type": "code",
      "source": [
        "nombre = input('Escriba su nombre: ')\n",
        "edad = input('Escriba su edad: ')\n",
        "print('Hola',nombre,',tienes',edad,'años')\n",
        "print(f'¡Hola, {nombre}, tienes {edad} años!')"
      ],
      "metadata": {
        "colab": {
          "base_uri": "https://localhost:8080/"
        },
        "id": "OQQQi03vB1bX",
        "outputId": "18aa563f-acce-470e-8b23-500ff0fdcb5c"
      },
      "execution_count": 120,
      "outputs": [
        {
          "output_type": "stream",
          "name": "stdout",
          "text": [
            "Escriba su nombre: Ana\n",
            "Escriba su edad: 20\n",
            "Hola Ana ,tienes 20 años\n",
            "¡Hola, Ana, tienes 20 años!\n"
          ]
        }
      ]
    },
    {
      "cell_type": "code",
      "source": [
        "nombre = input('Escriba su nombre: ')\n",
        "edad = input('Escriba su edad: ')\n",
        "altura = input('Escriba su altura (en metros): ')\n",
        "print('Hola',nombre,',tienes',edad,'años y mides',altura,'metros')\n",
        "print(f'¡Hola, {nombre}, tienes {edad} años y mides {altura} metros!')"
      ],
      "metadata": {
        "colab": {
          "base_uri": "https://localhost:8080/"
        },
        "id": "o50Bk2kxB1le",
        "outputId": "1ea20826-0f85-40e3-826b-93ad308d07b4"
      },
      "execution_count": 124,
      "outputs": [
        {
          "output_type": "stream",
          "name": "stdout",
          "text": [
            "Escriba su nombre: Ana\n",
            "Escriba su edad: 20\n",
            "Escriba su altura (en metros): 1.70\n",
            "Hola Ana ,tienes 20 años y mides 1.70 metros\n",
            "¡Hola, Ana, tienes 20 años y mides 1.70 metros!\n"
          ]
        }
      ]
    },
    {
      "cell_type": "markdown",
      "source": [
        "## Calculadora con operadores\n",
        "\n",
        "4 - Crea un programa que solicite dos valores numéricos al usuario y luego imprima la suma de ambos valores.\n",
        "\n",
        "5 - Crea un programa que solicite tres valores numéricos al usuario y luego imprima la suma de los tres valores.\n",
        "\n",
        "6 - Crea un programa que solicite dos valores numéricos al usuario y luego imprima la resta del primero menos el segundo valor.\n",
        "\n",
        "7 - Crea un programa que solicite dos valores numéricos al usuario y luego imprima la multiplicación de los dos valores.\n",
        "\n",
        "8 - Crea un programa que solicite dos valores numéricos, un numerador y un denominador, y realice la división entre los dos valores. Asegúrate de que el valor del denominador no sea igual a 0.\n",
        "\n",
        "9 - Crea un programa que solicite dos valores numéricos, un operador y una potencia, y realice la exponenciación entre estos dos valores.\n",
        "\n",
        "10 - Crea un programa que solicite dos valores numéricos, un numerador y un denominador, y realice la división entera entre los dos valores. Asegúrate de que el valor del denominador no sea igual a 0.\n",
        "\n",
        "11 - Crea un programa que solicite dos valores numéricos, un numerador y un denominador, y devuelva el resto de la división entre los dos valores. Asegúrate de que el valor del denominador no sea igual a 0.\n",
        "\n",
        "12 - Crea un código que solicite las 3 notas de un estudiante e imprima el promedio de las notas.\n",
        "\n",
        "13 - Crea un código que calcule e imprima el promedio ponderado de los números 5, 12, 20 y 15 con pesos respectivamente iguales a 1, 2, 3 y 4."
      ],
      "metadata": {
        "id": "y2qnvlElFYO9"
      }
    },
    {
      "cell_type": "code",
      "source": [
        "numero1 = int(input('Ingrese un nro: '))\n",
        "numero2 = int(input('Ingrese otro nro: '))\n",
        "print('La suma entre el numero',numero1,'y el numero',numero2,'es: ',numero1+numero2)"
      ],
      "metadata": {
        "colab": {
          "base_uri": "https://localhost:8080/"
        },
        "id": "P4Z9Yx63FjTY",
        "outputId": "d69ce9ca-75a4-45fd-c78e-6042ab4b0986"
      },
      "execution_count": 92,
      "outputs": [
        {
          "output_type": "stream",
          "name": "stdout",
          "text": [
            "Ingrese un nro: 2\n",
            "Ingrese otro nro: 2\n",
            "La suma entre el numero 2 y el numero 2 es:  4\n"
          ]
        }
      ]
    },
    {
      "cell_type": "code",
      "source": [
        "numero1 = int(input('Ingrese un nro: '))\n",
        "numero2 = int(input('Ingrese otro nro: '))\n",
        "numero3 = int(input('Ingrese otro nro: '))\n",
        "print('La suma entre el numero',numero1,',el numero',numero2,'y el numero',numero3, 'es: ',numero1+numero2+numero3)"
      ],
      "metadata": {
        "colab": {
          "base_uri": "https://localhost:8080/"
        },
        "id": "PESl5eEyFjsI",
        "outputId": "52f4cbe9-58c2-47c1-e64b-e133ba1b4220"
      },
      "execution_count": 94,
      "outputs": [
        {
          "output_type": "stream",
          "name": "stdout",
          "text": [
            "Ingrese un nro: 2\n",
            "Ingrese otro nro: 2\n",
            "Ingrese otro nro: 2\n",
            "La suma entre el numero 2 ,el numero 2 y el numero 2 es:  6\n"
          ]
        }
      ]
    },
    {
      "cell_type": "code",
      "source": [
        "numero1 = int(input('Ingrese un nro: '))\n",
        "numero2 = int(input('Ingrese otro nro: '))\n",
        "print('La resta entre el numero',numero1,'y el numero',numero2,'es: ',numero1-numero2)"
      ],
      "metadata": {
        "colab": {
          "base_uri": "https://localhost:8080/"
        },
        "id": "KxbwSLzMFjwo",
        "outputId": "93fbb59d-a474-491e-c6fa-c92a411f7b31"
      },
      "execution_count": 95,
      "outputs": [
        {
          "output_type": "stream",
          "name": "stdout",
          "text": [
            "Ingrese un nro: 2\n",
            "Ingrese otro nro: 2\n",
            "La resta entre el numero 2 y el numero 2 es:  0\n"
          ]
        }
      ]
    },
    {
      "cell_type": "code",
      "source": [
        "numero1 = int(input('Ingrese un nro: '))\n",
        "numero2 = int(input('Ingrese otro nro: '))\n",
        "print('La multiplicación entre el numero',numero1,'y el numero',numero2,'es: ',numero1*numero2)"
      ],
      "metadata": {
        "colab": {
          "base_uri": "https://localhost:8080/"
        },
        "id": "X2REFIqjFj1q",
        "outputId": "134a0e1b-fa06-4eaf-8061-6ba99639250b"
      },
      "execution_count": 96,
      "outputs": [
        {
          "output_type": "stream",
          "name": "stdout",
          "text": [
            "Ingrese un nro: 2\n",
            "Ingrese otro nro: 2\n",
            "La multiplicación entre el numero 2 y el numero 2 es:  4\n"
          ]
        }
      ]
    },
    {
      "cell_type": "code",
      "source": [
        "numero1 = int(input('Ingrese el valor para el numerador: '))\n",
        "numero2 = int(input('Ingrese el valor para el denominador (que no sea cero): '))\n",
        "print('La division entre el numero',numero1,'y el numero',numero2,'es: ',numero1/numero2)"
      ],
      "metadata": {
        "colab": {
          "base_uri": "https://localhost:8080/"
        },
        "id": "aFs8VNA7FkQJ",
        "outputId": "ebd496a9-03fa-4bf0-96ac-eb3574877e52"
      },
      "execution_count": 97,
      "outputs": [
        {
          "output_type": "stream",
          "name": "stdout",
          "text": [
            "Ingrese el valor para del numerador: 4\n",
            "Ingrese el valor para del denominador (que no sea cero): 2\n",
            "La division entre el numero 4 y el numero 2 es:  2.0\n"
          ]
        }
      ]
    },
    {
      "cell_type": "code",
      "source": [
        "numero1 = int(input('Ingrese el valor para el operador: '))\n",
        "numero2 = int(input('Ingrese el valor para la potencia: '))\n",
        "print('El numero',numero1,'elevado al numero',numero2,'es: ',numero1**numero2)"
      ],
      "metadata": {
        "colab": {
          "base_uri": "https://localhost:8080/"
        },
        "id": "bWWggzd_FkTT",
        "outputId": "1dfe9503-2790-417c-cc7b-b84e3979c03d"
      },
      "execution_count": 101,
      "outputs": [
        {
          "output_type": "stream",
          "name": "stdout",
          "text": [
            "Ingrese el valor para el operador: 3\n",
            "Ingrese el valor para la potencia: 2\n",
            "El numero 3 elevado al numero 2 es:  9\n"
          ]
        }
      ]
    },
    {
      "cell_type": "code",
      "source": [
        "numero1 = int(input('Ingrese el valor para el numerador: '))\n",
        "numero2 = int(input('Ingrese el valor para el denominador (que no sea cero): '))\n",
        "print('La division entera entre el numero',numero1,'y el numero',numero2,'es: ',numero1//numero2)"
      ],
      "metadata": {
        "colab": {
          "base_uri": "https://localhost:8080/"
        },
        "id": "70jIlDDFFkWT",
        "outputId": "217fa3b9-ea52-4223-945d-c0ec09a58c12"
      },
      "execution_count": 102,
      "outputs": [
        {
          "output_type": "stream",
          "name": "stdout",
          "text": [
            "Ingrese el valor para el numerador: 4\n",
            "Ingrese el valor para el denominador (que no sea cero): 2\n",
            "La division entera entre el numero 4 y el numero 2 es:  2\n"
          ]
        }
      ]
    },
    {
      "cell_type": "code",
      "source": [
        "numero1 = int(input('Ingrese el valor para el numerador: '))\n",
        "numero2 = int(input('Ingrese el valor para el denominador (que no sea cero): '))\n",
        "print('La el resto de la division entre el numero',numero1,'y el numero',numero2,'es: ',numero1%numero2)"
      ],
      "metadata": {
        "colab": {
          "base_uri": "https://localhost:8080/"
        },
        "id": "kuTv9AEGFkZB",
        "outputId": "07354b60-e04b-4d22-e513-d06964aea3e5"
      },
      "execution_count": 103,
      "outputs": [
        {
          "output_type": "stream",
          "name": "stdout",
          "text": [
            "Ingrese el valor para el numerador: 4\n",
            "Ingrese el valor para el denominador (que no sea cero): 2\n",
            "La el resto de la division entre el numero 4 y el numero 2 es:  0\n"
          ]
        }
      ]
    },
    {
      "cell_type": "code",
      "source": [
        "numero1 = int(input('Ingrese la nota de su primer parcial: '))\n",
        "numero2 = int(input('Ingrese la nota de su segundo parcial: '))\n",
        "numero3 = int(input('Ingrese la nota de su tercer parcial: '))\n",
        "print('Su nota promedio es de:',(numero1+numero2+numero3)/3)"
      ],
      "metadata": {
        "colab": {
          "base_uri": "https://localhost:8080/"
        },
        "id": "V90c3G3jFkb-",
        "outputId": "6c54a641-49f2-4f78-f54b-0154423a73df"
      },
      "execution_count": 104,
      "outputs": [
        {
          "output_type": "stream",
          "name": "stdout",
          "text": [
            "Ingrese la nota de su primer parcial: 2\n",
            "Ingrese la nota de su segundo parcial: 2\n",
            "Ingrese la nota de su tercer parcial: 2\n",
            "Su nota promedio es de: 2.0\n"
          ]
        }
      ]
    },
    {
      "cell_type": "code",
      "source": [
        "print('el promedio ponderado de los números 5, 12, 20 y 15 con pesos respectivamente iguales a 1, 2, 3 y 4 es:',(5*1+12*2+20*3+15*4)/(1+2+3+4))"
      ],
      "metadata": {
        "colab": {
          "base_uri": "https://localhost:8080/"
        },
        "id": "Z6e36SvEMiu-",
        "outputId": "820d3504-9ed8-42dd-9ad3-565ed71dee4b"
      },
      "execution_count": 125,
      "outputs": [
        {
          "output_type": "stream",
          "name": "stdout",
          "text": [
            "el promedio ponderado de los números 5, 12, 20 y 15 con pesos respectivamente iguales a 1, 2, 3 y 4 es: 14.9\n"
          ]
        }
      ]
    },
    {
      "cell_type": "markdown",
      "source": [
        "## Editando textos\n",
        "\n",
        "14 - Crea una variable llamada \"frase\" y asígnale una cadena de texto de tu elección. Luego, imprime la frase en pantalla.\n",
        "\n",
        "15 - Crea un código que solicite una frase y luego imprima la frase en pantalla.\n",
        "\n",
        "16 - Crea un código que solicite una frase al usuario y luego imprima la misma frase ingresada pero en mayúsculas.\n",
        "\n",
        "17 - Crea un código que solicite una frase al usuario y luego imprima la misma frase ingresada pero en minúsculas.\n",
        "\n",
        "18 - Crea una variable llamada \"frase\" y asígnale una cadena de texto de tu elección. Luego, imprime la frase sin espacios en blanco al principio y al final.\n",
        "\n",
        "19 - Crea un código que solicite una frase al usuario y luego imprima la misma frase sin espacios en blanco al principio y al final.\n",
        "\n",
        "20 - Crea un código que solicite una frase al usuario y luego imprima la misma frase sin espacios en blanco al principio y al final, además de convertirla a minúsculas.\n",
        "\n",
        "21 - Crea un código que solicite una frase al usuario y luego imprima la misma frase con todas las vocales \"e\" reemplazadas por la letra \"f\".\n",
        "\n",
        "22 - Crea un código que solicite una frase al usuario y luego imprima la misma frase con todas las vocales \"a\" reemplazadas por el carácter \"@\".\n",
        "\n",
        "23 - Crea un código que solicite una frase al usuario y luego imprima la misma frase con todas las consonantes \"s\" reemplazadas por el carácter \"$\".\n",
        "\n",
        "Si necesitas ayuda, las opciones de solución a las actividades estarán disponibles en la sección \"Opinión del instructor\"."
      ],
      "metadata": {
        "id": "iKVSsdA4NLxv"
      }
    },
    {
      "cell_type": "code",
      "source": [
        "frase = 'Mis primeros pasos en Python'\n",
        "print(frase)"
      ],
      "metadata": {
        "colab": {
          "base_uri": "https://localhost:8080/"
        },
        "id": "B00QaANkNQ-O",
        "outputId": "9edecaca-4509-4da5-fea8-d803bdb8b37c"
      },
      "execution_count": 106,
      "outputs": [
        {
          "output_type": "stream",
          "name": "stdout",
          "text": [
            "Mis primeros pasos en Python\n"
          ]
        }
      ]
    },
    {
      "cell_type": "code",
      "source": [
        "frase = input('Ingrese una frase: ')\n",
        "print(frase)"
      ],
      "metadata": {
        "colab": {
          "base_uri": "https://localhost:8080/"
        },
        "id": "foZdQhIcNR11",
        "outputId": "6c60f5c4-6ff8-4f99-b096-f8f1871e9b38"
      },
      "execution_count": 107,
      "outputs": [
        {
          "output_type": "stream",
          "name": "stdout",
          "text": [
            "Ingrese una frase: La vida es bella\n",
            "La vida es bella\n"
          ]
        }
      ]
    },
    {
      "cell_type": "code",
      "source": [
        "frase = input('Ingrese una frase: ')\n",
        "print(frase.upper())"
      ],
      "metadata": {
        "colab": {
          "base_uri": "https://localhost:8080/"
        },
        "id": "5aqGAkX6NR7V",
        "outputId": "9c956265-2a66-4417-83a2-e0c3f9ea1882"
      },
      "execution_count": 109,
      "outputs": [
        {
          "output_type": "stream",
          "name": "stdout",
          "text": [
            "Ingrese una frase: la vida es bella\n",
            "LA VIDA ES BELLA\n"
          ]
        }
      ]
    },
    {
      "cell_type": "code",
      "source": [
        "frase = input('Ingrese una frase: ')\n",
        "print(frase.lower())"
      ],
      "metadata": {
        "colab": {
          "base_uri": "https://localhost:8080/"
        },
        "id": "8D0USTVXNSAX",
        "outputId": "6a509601-8fb8-43e0-d202-ebdfeb45508d"
      },
      "execution_count": 110,
      "outputs": [
        {
          "output_type": "stream",
          "name": "stdout",
          "text": [
            "Ingrese una frase: LA VIDA ES BELLA\n",
            "la vida es bella\n"
          ]
        }
      ]
    },
    {
      "cell_type": "code",
      "source": [
        "frase = '   Mis primeros pasos en Python   '\n",
        "print(frase.strip())"
      ],
      "metadata": {
        "colab": {
          "base_uri": "https://localhost:8080/"
        },
        "id": "ox3gy8YINSFs",
        "outputId": "c5a291a6-3853-4139-dd96-b01e608c4d36"
      },
      "execution_count": 112,
      "outputs": [
        {
          "output_type": "stream",
          "name": "stdout",
          "text": [
            "Mis primeros pasos en Python\n"
          ]
        }
      ]
    },
    {
      "cell_type": "code",
      "source": [
        "frase = input('Ingrese una frase: ')\n",
        "print(frase.strip())"
      ],
      "metadata": {
        "colab": {
          "base_uri": "https://localhost:8080/"
        },
        "id": "elv-8n-4NSKZ",
        "outputId": "02a8562f-9f37-49ba-a658-637b59628851"
      },
      "execution_count": 113,
      "outputs": [
        {
          "output_type": "stream",
          "name": "stdout",
          "text": [
            "Ingrese una frase:    La vida es bella    \n",
            "La vida es bella\n"
          ]
        }
      ]
    },
    {
      "cell_type": "code",
      "source": [
        "frase = input('Ingrese una frase: ')\n",
        "print(frase.strip().lower())"
      ],
      "metadata": {
        "colab": {
          "base_uri": "https://localhost:8080/"
        },
        "id": "ssqWaFwpNSP_",
        "outputId": "940bf7cf-47e4-47ec-ee86-e0ccad355e9e"
      },
      "execution_count": 115,
      "outputs": [
        {
          "output_type": "stream",
          "name": "stdout",
          "text": [
            "Ingrese una frase:    LA VIDA ES BELLA   \n",
            "la vida es bella\n"
          ]
        }
      ]
    },
    {
      "cell_type": "code",
      "source": [
        "frase = input('Ingrese una frase: ')\n",
        "print(frase.replace('e','f'))"
      ],
      "metadata": {
        "colab": {
          "base_uri": "https://localhost:8080/"
        },
        "id": "pxqqI4tSNSVP",
        "outputId": "7812b3b8-3444-4e1c-9e81-6f3165373b57"
      },
      "execution_count": 116,
      "outputs": [
        {
          "output_type": "stream",
          "name": "stdout",
          "text": [
            "Ingrese una frase: La vida es bella y la eternidad es fantastica\n",
            "La vida fs bflla y la ftfrnidad fs fantastica\n"
          ]
        }
      ]
    },
    {
      "cell_type": "code",
      "source": [
        "frase = input('Ingrese una frase: ')\n",
        "print(frase.replace('a','@'))"
      ],
      "metadata": {
        "colab": {
          "base_uri": "https://localhost:8080/"
        },
        "id": "baKj0WPbNSaT",
        "outputId": "ad0225b9-3ab9-4263-bce5-36e91a6899d1"
      },
      "execution_count": 117,
      "outputs": [
        {
          "output_type": "stream",
          "name": "stdout",
          "text": [
            "Ingrese una frase: La vida es bella\n",
            "L@ vid@ es bell@\n"
          ]
        }
      ]
    },
    {
      "cell_type": "code",
      "source": [
        "frase = input('Ingrese una frase: ')\n",
        "print(frase.replace('s','$'))"
      ],
      "metadata": {
        "colab": {
          "base_uri": "https://localhost:8080/"
        },
        "id": "M5SgMVxSNSfd",
        "outputId": "a7719be5-6fd2-4bf6-f6fe-1b9f4c8fb22d"
      },
      "execution_count": 119,
      "outputs": [
        {
          "output_type": "stream",
          "name": "stdout",
          "text": [
            "Ingrese una frase: La vida es bella\n",
            "La vida e$ bella\n"
          ]
        }
      ]
    },
    {
      "cell_type": "markdown",
      "source": [
        "# Estructuras condicionales"
      ],
      "metadata": {
        "id": "NwRaiHHHhhyl"
      }
    },
    {
      "cell_type": "code",
      "source": [
        "# Nota de aprobacion entre 7 y 10 == nota de aprobacion >=7\n",
        "# Nota de reprobacion es menor a 7 == nota de reprobacion < 7\n",
        "\n",
        "\"\"\"\n",
        "Si la nota es mayor o igual a 7 entonces el estudiante aprueba\n",
        "Si no, entonces el estudiante reprueba\n",
        "\"\"\""
      ],
      "metadata": {
        "id": "pa4gLncu-mvU",
        "colab": {
          "base_uri": "https://localhost:8080/",
          "height": 35
        },
        "outputId": "db7f6296-7e09-49f3-8f50-6883d7159c70"
      },
      "execution_count": 1,
      "outputs": [
        {
          "output_type": "execute_result",
          "data": {
            "text/plain": [
              "'\\nSi la nota es mayor o igual a 7 entonces el estudiante aprueba\\nSi no, entonces el estudiante reprueba\\n'"
            ],
            "application/vnd.google.colaboratory.intrinsic+json": {
              "type": "string"
            }
          },
          "metadata": {},
          "execution_count": 1
        }
      ]
    },
    {
      "cell_type": "markdown",
      "source": [
        "## `IF` y `ELSE`\n",
        "\n",
        "Los comandos `if` y `else` son dos estructuras condicionales. El comando `if` ejecutará el bloque de comandos en caso de que la condición citada sea  **verdadera**. El comando `else` ejecutará el bloque de comandos en el caso de que la condicional de `if` sea **falsa**."
      ],
      "metadata": {
        "id": "qXZqg9aYEhAh"
      }
    },
    {
      "cell_type": "markdown",
      "source": [
        "El comando `if` es una palabra clave en Python que significa \"si\". Este se emplea para conformar la estructura condicional, que te permite verificar si una determinada condición es verdadera o falsa e, inmediatamente después, ejecute un bloque de código específico dependiendo del resultado de la verificación. La sintaxis para usar el comando `if` es:\n",
        "\n",
        "\n",
        "\n",
        "```\n",
        "if condicion:\n",
        "    # Realiza algo\n",
        "```\n",
        "\n"
      ],
      "metadata": {
        "id": "EIhlqHXd2Gil"
      }
    },
    {
      "cell_type": "code",
      "source": [
        "if 2 <7:\n",
        "  print('La condicion es verdadera.')"
      ],
      "metadata": {
        "id": "S2S6XAFz-czM",
        "colab": {
          "base_uri": "https://localhost:8080/"
        },
        "outputId": "cb61fccb-35ff-42db-ef67-819e583d0b2f"
      },
      "execution_count": 2,
      "outputs": [
        {
          "output_type": "stream",
          "name": "stdout",
          "text": [
            "La condicion es verdadera.\n"
          ]
        }
      ]
    },
    {
      "cell_type": "code",
      "source": [
        "if 2 > 7:\n",
        "  print('La condicion es verdadera.')\n",
        "print('Fin de la consulta')"
      ],
      "metadata": {
        "id": "YHkwMMyY-c1r",
        "colab": {
          "base_uri": "https://localhost:8080/"
        },
        "outputId": "84fa005f-d900-4aec-9f6a-778824624478"
      },
      "execution_count": 4,
      "outputs": [
        {
          "output_type": "stream",
          "name": "stdout",
          "text": [
            "Fin de la consulta\n"
          ]
        }
      ]
    },
    {
      "cell_type": "markdown",
      "source": [
        "Ya el comando `else` en Python se usa en junción con la palabra clave `if` para formar una estructura condicional. la sintaxis para usar el `else` es:\n",
        "\n",
        "```\n",
        "if condicion:\n",
        "  # codigo en caso de que sea verdad\n",
        "else:\n",
        "  # codigo en caso de que sea falso\n",
        "```\n",
        "\n",
        "el comando `else` se ejecuta cuando la condición verificada por el `if` es evaluada como `False`."
      ],
      "metadata": {
        "id": "27RW2v_sIKct"
      }
    },
    {
      "cell_type": "code",
      "source": [
        "if 2 > 7:\n",
        "  print('La condicion es verdadera.')\n",
        "else:\n",
        "  print('La condicion es falsa.')\n",
        "print('Fin de la consulta.')"
      ],
      "metadata": {
        "id": "ZTfNJd_f-aOq",
        "colab": {
          "base_uri": "https://localhost:8080/"
        },
        "outputId": "bc217bd5-a272-49a9-bbc9-dba9e23596c5"
      },
      "execution_count": 5,
      "outputs": [
        {
          "output_type": "stream",
          "name": "stdout",
          "text": [
            "La condicion es falsa.\n",
            "Fin de la consulta.\n"
          ]
        }
      ]
    },
    {
      "cell_type": "markdown",
      "source": [
        "---\n",
        "**Situación:**\n",
        "\n",
        "Recibiremos el promedio de la nota de los estudiantes y necesitamos de un algoritmo que ejecute el análisis y determine si el estudiante fue **Aprobado** o **Reprobado**, mostrando un mensaje del resultado. Para ser aprobado, el promedio necesita ser igual o superior a 7.0."
      ],
      "metadata": {
        "id": "BqORg85XX-Nl"
      }
    },
    {
      "cell_type": "code",
      "source": [
        "nota = float(input('Digita la nota:'))\n",
        "\n",
        "if nota >= 7:\n",
        "  print('Aprobo')\n",
        "else:\n",
        "  print('Reprobo')"
      ],
      "metadata": {
        "id": "UukCN4AQ-YYW",
        "colab": {
          "base_uri": "https://localhost:8080/"
        },
        "outputId": "9d5bd988-7e92-46c0-c22c-e471f0339204"
      },
      "execution_count": 6,
      "outputs": [
        {
          "output_type": "stream",
          "name": "stdout",
          "text": [
            "Digita la nota:6\n",
            "Reprobo\n"
          ]
        }
      ]
    },
    {
      "cell_type": "markdown",
      "source": [
        "Ahora, nuestra institución educativa estableció que las personas que tengan el promedio entre 5.0 y 7.0 pueden participar del curso de **Recuperación** durante las vacaciones para lograr aprobar.\n",
        "\n",
        "Entonces podemos apoyarnos en un conjunto de `if`s para poder estructurar esta nueva condición."
      ],
      "metadata": {
        "id": "bD9O17HB6LUo"
      }
    },
    {
      "cell_type": "code",
      "source": [
        "nota = float(input('Digita la nota:'))\n",
        "\n",
        "if nota >= 7:\n",
        "  print('Aprobo')\n",
        "if 7 > nota >=5:\n",
        "  print('Recuperacion')\n",
        "if nota < 5:\n",
        "  print('Reprobo')"
      ],
      "metadata": {
        "id": "X0o8FW1H-YkA",
        "colab": {
          "base_uri": "https://localhost:8080/"
        },
        "outputId": "5de494be-6a14-4e87-ceb7-5b5a43a5e620"
      },
      "execution_count": 8,
      "outputs": [
        {
          "output_type": "stream",
          "name": "stdout",
          "text": [
            "Digita la nota:7.1\n",
            "Aprobo\n"
          ]
        }
      ]
    },
    {
      "cell_type": "markdown",
      "source": [
        "Observa que en casos con 3 situaciones como este necesitamos definir bien nuestras condiciones. Pues, si realizamos una condición con `else` al final, este irá a considerar solamente la condición `if` inmediatamente anterior para generar la salida en caso de que el resultado de su operación lógica sea **falso** dando como resultado, dos o más ejecuciones.\n",
        "\n",
        "Por ejemplo:"
      ],
      "metadata": {
        "id": "D5e2mByjvycO"
      }
    },
    {
      "cell_type": "code",
      "source": [
        "nota = float(input('Digita la nota:'))\n",
        "\n",
        "if nota >= 7:\n",
        "  print('Aprobo')\n",
        "if 7 > nota >=5:\n",
        "  print('Recuperacion')\n",
        "else:\n",
        "  print('Reprobo')"
      ],
      "metadata": {
        "id": "C21JmOuK-VU8",
        "colab": {
          "base_uri": "https://localhost:8080/"
        },
        "outputId": "f6bae2b4-bf98-446d-8a2f-402a27540ecd"
      },
      "execution_count": 9,
      "outputs": [
        {
          "output_type": "stream",
          "name": "stdout",
          "text": [
            "Digita la nota:8\n",
            "Aprobo\n",
            "Reprobo\n"
          ]
        }
      ]
    },
    {
      "cell_type": "markdown",
      "source": [
        "## `ELIF`\n",
        "\n",
        "El comando `elif` es una palabra clave en Python que significa \"si no, si\" y lo podemos considerar una *contracción* entre `else` e `if`. Se utiliza en conjunto con la palabra clave `if` para formar una estructura condicional en cadena."
      ],
      "metadata": {
        "id": "04T5g-7h4zWx"
      }
    },
    {
      "cell_type": "markdown",
      "source": [
        "la sintaxis para utilizar el comando `elif` es:\n",
        "\n",
        "```\n",
        "if condicion1:\n",
        "    # Realiza algo\n",
        "elif condicion2:\n",
        "    # Realiza otra cosa\n",
        "elif condicion3:\n",
        "    # Realiza otra cosa\n",
        "else:\n",
        "    # Realiza algo diferente\n",
        "```\n",
        "\n",
        "El comando `elif` permite que puedas verificar varias condiciones en cadena, economizando espacio en tu código. Si la primera condición se evalúa como `False`, el interpretador de Python evaluará la próxima condición con el `elif`. Ello continuará hasta que una condición sea evaluada como `True` o hasta que el `else` sea alcazado. Si ninguna de las condiciones es evaluada como `True`, la ejecución del código del comando `else` será iniciada."
      ],
      "metadata": {
        "id": "rNBHr5mm1Lm6"
      }
    },
    {
      "cell_type": "markdown",
      "source": [
        "Vamos a emplear el mismo caso anterior:"
      ],
      "metadata": {
        "id": "MVoykFbB4bd4"
      }
    },
    {
      "cell_type": "code",
      "source": [
        "nota = float(input('Digita la nota: '))\n",
        "\n",
        "if nota >= 7:\n",
        "  print('Aprobo')\n",
        "elif 7 > nota >=5:\n",
        "  print('Recuperacion')\n",
        "else:\n",
        "  print('Reprobo')"
      ],
      "metadata": {
        "id": "QFamB78s-TW_",
        "colab": {
          "base_uri": "https://localhost:8080/"
        },
        "outputId": "be2b43a0-8592-4206-a021-f879ed125ff4"
      },
      "execution_count": 12,
      "outputs": [
        {
          "output_type": "stream",
          "name": "stdout",
          "text": [
            "Digita la nota: 7\n",
            "Aprobo\n"
          ]
        }
      ]
    },
    {
      "cell_type": "markdown",
      "source": [
        "## Operadores\n",
        "\n",
        "Durante la construcción de comandos a veces necesitamos de una elaboración mayor de la expresión condicional, necesitando que algunos operadores lógicos se encuentren integrados."
      ],
      "metadata": {
        "id": "Tf1wSOem6iwZ"
      }
    },
    {
      "cell_type": "markdown",
      "source": [
        "### `AND`, `OR`, `NOT`\n",
        "\n",
        "Los operadores lógicos `and`, `or` y `not` son usados para combinar expresiones lógicas en Python. Ellos son usados frecuentemente en conjunto con el comando `if` para crear estructuras condicionales más complejas.\n"
      ],
      "metadata": {
        "id": "GFIZnRWXGPWO"
      }
    },
    {
      "cell_type": "markdown",
      "source": [
        "- `AND` es usado para verificar si dos condiciones son verdaderas. La expresión lógica¹ `x and y` se evalúa como `True` tan solo si **ambas condiciones `x` y `y` son verdaderas**, y como `False` en caso contrario.\n",
        "\n",
        "- `OR` es usado para verificar si al menos una de las condiciones es verdadera. La expresión lógica `x or y` se evalúa como `True` **si al menos una de las condiciones `x` o `y` es verdadera**, y como `False` si ambas condiciones son falsas.\n",
        "\n",
        "- `NOT` es usado para **negar una condición**. La expresión lógica `not x` es evaluada como `True` si la condición x es falsa, y como `False` si la condición x es verdadera.\n",
        "\n",
        "¹ Una expresión lógica es una declaración que puede ser evaluada como verdadera o falsa. Ella se compone por operandos lógicos² y por operadores lógicos³, que son usados ​​para combinar varias expresiones lógicas en una única expresión.\n",
        "\n",
        "² Los operandos lógicos son los elementos que son comparados o evaluados en una expresión lógica. Ellos son generalmente valores verdaderos o falsos, pero también pueden ser expresiones lógicas más complejas. En Python, los operandos lógicos son los valores `True` y `False`.\n",
        "\n",
        "³ Los operadores lógicos son ls símbolos o palabras clave que son usados ​​para combinar varias expresiones lógicas en una única expresión. En Python, los operadores lógicos son `and`, `or` y `not`, bien como las palabras clave `if`, `elif` e `else`."
      ],
      "metadata": {
        "id": "Z_dgAoHXJbzB"
      }
    },
    {
      "cell_type": "markdown",
      "source": [
        "> Operadores lógicos más comunes\n",
        "\n",
        "|a|b|AND|OR|NOT|\n",
        "|-|-|-|-|-|\n",
        "|0|0|0|0|1\n",
        "|0|1|0|1|-\n",
        "|1|0|0|1|-\n",
        "|1|1|1|1|0\n"
      ],
      "metadata": {
        "id": "2E5aUogf-49u"
      }
    },
    {
      "cell_type": "code",
      "source": [
        "v = True\n",
        "f = False"
      ],
      "metadata": {
        "id": "DFKmpvmS-Pa6"
      },
      "execution_count": 14,
      "outputs": []
    },
    {
      "cell_type": "code",
      "source": [
        "if f and f:\n",
        "  print('La condicion es verdadera.')\n",
        "else:\n",
        "  print('La condicion es falsa.')"
      ],
      "metadata": {
        "id": "W5BIrpOD-PeI",
        "colab": {
          "base_uri": "https://localhost:8080/"
        },
        "outputId": "1d63647e-65d9-40b4-b62e-751edda89bcf"
      },
      "execution_count": 17,
      "outputs": [
        {
          "output_type": "stream",
          "name": "stdout",
          "text": [
            "La condicion es falsa.\n"
          ]
        }
      ]
    },
    {
      "cell_type": "code",
      "source": [
        "if v or f:\n",
        "  print('La condicion es verdadera.')\n",
        "else:\n",
        "  print('La condicion es falsa.')"
      ],
      "metadata": {
        "id": "fpDhYxq4-PiM",
        "colab": {
          "base_uri": "https://localhost:8080/"
        },
        "outputId": "30c4d674-2fef-4e1e-8fe8-61a00d7489d8"
      },
      "execution_count": 19,
      "outputs": [
        {
          "output_type": "stream",
          "name": "stdout",
          "text": [
            "La condicion es verdadera.\n"
          ]
        }
      ]
    },
    {
      "cell_type": "code",
      "source": [
        "if not f:\n",
        "  print('La condicion es verdadera.')\n",
        "else:\n",
        "  print('La condicion es falsa.')"
      ],
      "metadata": {
        "colab": {
          "base_uri": "https://localhost:8080/"
        },
        "id": "nXugm6v9SbYP",
        "outputId": "d691d8d3-e88b-453b-c21e-d680c6d17f87"
      },
      "execution_count": 20,
      "outputs": [
        {
          "output_type": "stream",
          "name": "stdout",
          "text": [
            "La condicion es verdadera.\n"
          ]
        }
      ]
    },
    {
      "cell_type": "markdown",
      "source": [
        "### `IN`\n",
        "\n",
        "Es usado para verificar si un elemento está presente en una lista, tupla u otra colección de conjunto. La expresión `x in y` se evalúa como `True` si el elemento `x` esta presente na variávelen la variable de conjunto `y`, y como `False` en caso contrario."
      ],
      "metadata": {
        "id": "w7EXG1dhWtja"
      }
    },
    {
      "cell_type": "markdown",
      "source": [
        "Podemos verificarlo con variables de texto.\n",
        "\n",
        "---\n",
        "\n",
        "**Situación:**\n",
        "\n",
        "En la escuela nos entregaron una lista con nombres de estudiantes que fueron aprobados según el promedio del semestre, pero es necesario verificar si algunos nombres están en esa lista para confirmar que los datos estén correctos.\n",
        "\n",
        "La lista distribuida puede ser observada a continuación:\n",
        "\n",
        "```\n",
        "lista = 'Juan Pérez, María González, Pedro Rodríguez, Ana López, Carlos Martínez,\n",
        "    Laura Sánchez, José García, Elena Fernández, Luis Morales, Carmen Torres,\n",
        "    David Ruiz, Isabel Ramírez, Javier Díaz, Sara Herrera, Miguel Castro,\n",
        "    Patricia Ortega, Francisco Vargas, Marta Jiménez, Manuel Medina, Rosa Molina,\n",
        "    Alejandro Silva, Silvia Ruiz, Andrés Torres, Natalia Soto, Diego Guerrero,\n",
        "    Paula Ríos, Ricardo Navarro, Alicia Cordero, Carlos Vidal, Lorena Gómez'\n",
        "```\n",
        "\n",
        "Los nombres que necesitas verificar son los siguientes:\n",
        "\n",
        "```\n",
        "nombre_1 = 'Miguel Castro'\n",
        "nombre_2 = 'Marcelo Noguera'\n",
        "```"
      ],
      "metadata": {
        "id": "enJNp6JenQbq"
      }
    },
    {
      "cell_type": "code",
      "source": [
        "lista = 'Juan Pérez, María González, Pedro Rodríguez, Ana López, Carlos Martínez, Laura Sánchez, José García, Elena Fernández, Luis Morales, Carmen Torres, David Ruiz, Isabel Ramírez, Javier Díaz, Sara Herrera, Miguel Castro, Patricia Ortega, Francisco Vargas, Marta Jiménez, Manuel Medina, Rosa Molina, Alejandro Silva, Silvia Ruiz, Andrés Torres, Natalia Soto, Diego Guerrero, Paula Ríos, Ricardo Navarro, Alicia Cordero, Carlos Vidal, Lorena Gómez'"
      ],
      "metadata": {
        "id": "gPPN9BCT-Mki"
      },
      "execution_count": 22,
      "outputs": []
    },
    {
      "cell_type": "code",
      "source": [
        "nombre_1 = 'Miguel Castro'\n",
        "nombre_2 = 'Marcelo Noguera'"
      ],
      "metadata": {
        "id": "GINbG3Fa-Mnb"
      },
      "execution_count": 23,
      "outputs": []
    },
    {
      "cell_type": "code",
      "source": [
        "if nombre_1 in lista:\n",
        "  print('El estudiante aprobo.')\n",
        "else:\n",
        "  print('El estudiante reprobo')"
      ],
      "metadata": {
        "id": "hk-RhNRT-Mp7",
        "colab": {
          "base_uri": "https://localhost:8080/"
        },
        "outputId": "184251d9-1b12-4e7b-8e66-2bf891523f6e"
      },
      "execution_count": 26,
      "outputs": [
        {
          "output_type": "stream",
          "name": "stdout",
          "text": [
            "El estudiante aprobo.\n"
          ]
        }
      ]
    },
    {
      "cell_type": "code",
      "source": [
        "if nombre_2 in lista:\n",
        "  print('El estudiante aprobo.')\n",
        "else:\n",
        "  print('El estudiante reprobo')"
      ],
      "metadata": {
        "colab": {
          "base_uri": "https://localhost:8080/"
        },
        "id": "ZzAW1NniUFOR",
        "outputId": "85996296-6007-4b92-cbef-8e6fb61c28a9"
      },
      "execution_count": 27,
      "outputs": [
        {
          "output_type": "stream",
          "name": "stdout",
          "text": [
            "El estudiante reprobo\n"
          ]
        }
      ]
    },
    {
      "cell_type": "markdown",
      "source": [
        "# **Desafio**: ¡Es hora de practicar!"
      ],
      "metadata": {
        "id": "JVu1msa9iKWg"
      }
    },
    {
      "cell_type": "markdown",
      "source": [
        "## Entrenando la programación\n",
        "\n",
        "1 - Escribe un programa que pida a la persona usuaria que proporcione dos números y muestre el número más grande.\n",
        "\n",
        "2 - Escribe un programa que solicite el porcentaje de crecimiento de producción de una empresa e informe si hubo un crecimiento (porcentaje positivo) o una disminución (porcentaje negativo).\n",
        "\n",
        "3 - Escribe un programa que determine si una letra proporcionada por la persona usuaria es una vocal o una consonante.\n",
        "\n",
        "4 - Escribe un programa que lea valores promedio de precios de un modelo de automóvil durante 3 años consecutivos y muestre el valor más alto y más bajo entre esos tres años.\n",
        "\n",
        "5 - Escribe un programa que pregunte sobre el precio de tres productos e indique cuál es el producto más barato para comprar.\n",
        "\n",
        "6 - Escribe un programa que lea tres números y los muestre en orden descendente.\n",
        "\n",
        "7 -Escribe un programa que pregunte en qué turno estudia la persona usuaria (\"mañana\", \"tarde\" o \"noche\") y muestre el mensaje \"¡Buenos Días!\", \"¡Buenas Tardes!\", \"¡Buenas Noches!\" o \"Valor Inválido!\", según el caso.\n",
        "\n",
        "8 - Escribe un programa que solicite un número entero a la persona usuaria y determine si es par o impar. Pista: Puedes usar el operador módulo (%).\n",
        "\n",
        "9 - Escribe un programa que pida un número a la persona usuaria y le informe si es entero o decimal."
      ],
      "metadata": {
        "id": "B8Zi-ERaiQuX"
      }
    },
    {
      "cell_type": "code",
      "source": [
        "numero1 = int(input('Digite un nro: '))\n",
        "numero2 = int(input('Digite otro nro: '))\n",
        "if numero1 > numero2:\n",
        "  print('El numero mas grande es:', numero1)\n",
        "else:\n",
        "  print('El numero mas grande es:', numero2)"
      ],
      "metadata": {
        "colab": {
          "base_uri": "https://localhost:8080/"
        },
        "id": "jRiYOqE-igl3",
        "outputId": "7e12df52-2327-41ee-b9dc-3e90af9bb2fe"
      },
      "execution_count": 29,
      "outputs": [
        {
          "output_type": "stream",
          "name": "stdout",
          "text": [
            "Digite un nro: 4\n",
            "Digite otro nro: 6\n",
            "El numero mas grande es: 6\n"
          ]
        }
      ]
    },
    {
      "cell_type": "code",
      "source": [
        "porcentaje = float(input('Ingrese el valor porcentual (positivo o negativo, sin el simbolo %) de producción de una empresa: '))\n",
        "if porcentaje > 0:\n",
        "  print('Hubo un crecimiento.')\n",
        "else:\n",
        "  print('Hubo una disminucion.')"
      ],
      "metadata": {
        "colab": {
          "base_uri": "https://localhost:8080/"
        },
        "id": "6Tvm7niUigyA",
        "outputId": "4707b7a3-d72f-4bf3-973d-03ce6a5a65a7"
      },
      "execution_count": 38,
      "outputs": [
        {
          "output_type": "stream",
          "name": "stdout",
          "text": [
            "Ingrese el valor porcentual (positivo o negativo, sin el simbolo %) de producción de una empresa: 10\n",
            "Hubo un crecimiento.\n"
          ]
        }
      ]
    },
    {
      "cell_type": "code",
      "source": [
        "letra = input('Ingrese una letra: ')\n",
        "if letra in ('a', 'A', 'e', 'E', 'i', 'I', 'o', 'O', 'u', 'U'):\n",
        "  print('La letra es una vocal')\n",
        "else:\n",
        "  print('La letra es una consonante')"
      ],
      "metadata": {
        "colab": {
          "base_uri": "https://localhost:8080/"
        },
        "id": "OS87-_Yfig6J",
        "outputId": "36c20c13-fcb1-4ed1-a13e-fcbde7338851"
      },
      "execution_count": 60,
      "outputs": [
        {
          "output_type": "stream",
          "name": "stdout",
          "text": [
            "Ingrese una letra: U\n",
            "La letra es una vocal\n"
          ]
        }
      ]
    },
    {
      "cell_type": "code",
      "source": [
        "ano1 = 10.5\n",
        "ano2 = 30.2\n",
        "ano3 = 5.4\n",
        "if ano1 > ano2 and ano1 > ano3:\n",
        "  print(f'El valor mas alto es: {ano1} y corresponde al año 1')\n",
        "elif ano2 > ano1 and ano2 > ano3:\n",
        "  print(f'El valor mas alto es: {ano2} y corresponde al año 2')\n",
        "else:\n",
        "  print(f'El valor mas alto es: {ano3} y corresponde al año 3')\n",
        "if ano1 < ano2 and ano1 < ano3:\n",
        "  print(f'El valor mas bajo es: {ano1} y corresponde al año 1')\n",
        "elif ano2 < ano1 and ano2 < ano3:\n",
        "  print(f'El valor mas bajo es: {ano2} y corresponde al año 2')\n",
        "else:\n",
        "  print(f'El valor mas bajo es: {ano3} y corresponde al año 3')"
      ],
      "metadata": {
        "colab": {
          "base_uri": "https://localhost:8080/"
        },
        "id": "tFBF5_vWihBx",
        "outputId": "45503488-cc34-4c97-944b-9380a61e9efa"
      },
      "execution_count": 69,
      "outputs": [
        {
          "output_type": "stream",
          "name": "stdout",
          "text": [
            "El valor mas alto es: 30.2 y corresponde al año 2\n",
            "El valor mas bajo es: 5.4 y corresponde al año 3\n"
          ]
        }
      ]
    },
    {
      "cell_type": "code",
      "source": [
        "producto1 = float(input('Ingrese el precio del producto 1: '))\n",
        "producto2 = float(input('Ingrese el precio del producto 2: '))\n",
        "producto3 = float(input('Ingrese el precio del producto 3: '))\n",
        "if producto1 < producto2 and producto1 < producto3:\n",
        "  print(f'El precio mas economico es: {producto1} y corresponde al producto 1')\n",
        "elif producto2 < producto1 and producto2 < producto3:\n",
        "  print(f'El precio mas economico es: {producto2} y corresponde al producto 2')\n",
        "else:\n",
        "  print(f'El precio mas economico es: {producto3} y corresponde al producto 3')"
      ],
      "metadata": {
        "colab": {
          "base_uri": "https://localhost:8080/"
        },
        "id": "vFYPJvF7ig9w",
        "outputId": "ec56c99b-acea-4480-88c1-fa1528bd9913"
      },
      "execution_count": 68,
      "outputs": [
        {
          "output_type": "stream",
          "name": "stdout",
          "text": [
            "Ingrese el precio del producto 1: 10\n",
            "Ingrese el precio del producto 2: 20\n",
            "Ingrese el precio del producto 3: 30\n",
            "El precio mas economico es: 10.0 y corresponde al producto 1\n"
          ]
        }
      ]
    },
    {
      "cell_type": "code",
      "source": [
        "nro1 = 3\n",
        "nro2 = 2\n",
        "nro3 = 1\n",
        "if nro1 >= nro2 and nro2 >= nro3:\n",
        "  print(f'El orden descendente de los numeros es: {nro1}, {nro2} y {nro3}')\n",
        "elif nro1 >= nro3 and nro3 >= nro2:\n",
        "  print(f'El orden descendente de los numeros es: {nro1}, {nro3} y {nro2}')\n",
        "elif nro2 >= nro1 and nro1 >= nro3:\n",
        "  print(f'El orden descendente de los numeros es: {nro2}, {nro1} y {nro3}')\n",
        "elif nro2 >= nro3 and nro3 >= nro1:\n",
        "  print(f'El orden descendente de los numeros es: {nro2}, {nro3} y {nro1}')\n",
        "elif nro3 >= nro1 and nro1 >= nro2:\n",
        "  print(f'El orden descendente de los numeros es: {nro3}, {nro1} y {nro2}')\n",
        "else:\n",
        "  print(f'El orden descendente de los numeros es: {nro3}, {nro2} y {nro1}')\n"
      ],
      "metadata": {
        "colab": {
          "base_uri": "https://localhost:8080/"
        },
        "id": "Ms53M07BihFQ",
        "outputId": "95e1faeb-b7c9-492f-adfb-2f3cacb602ef"
      },
      "execution_count": 108,
      "outputs": [
        {
          "output_type": "stream",
          "name": "stdout",
          "text": [
            "El orden descendente de los numeros es: 3, 2 y 1\n"
          ]
        }
      ]
    },
    {
      "cell_type": "code",
      "source": [
        "turno = input('En qué turno estudia la persona usuaria? (\"mañana\", \"tarde\" o \"noche\"): ')\n",
        "if turno == 'mañana':\n",
        "  print('Buenos dias!')\n",
        "elif turno == 'tarde':\n",
        "  print('Buenas tardes!')\n",
        "elif turno == 'noche':\n",
        "  print('Buenas noches')\n",
        "else:\n",
        "  print('Valor invalido')"
      ],
      "metadata": {
        "colab": {
          "base_uri": "https://localhost:8080/"
        },
        "id": "miYqmWELihIo",
        "outputId": "e768c07e-d14f-4f55-d3e0-9696db2faf30"
      },
      "execution_count": 110,
      "outputs": [
        {
          "output_type": "stream",
          "name": "stdout",
          "text": [
            "En qué turno estudia la persona usuaria? (\"mañana\", \"tarde\" o \"noche\"): rojo\n",
            "Valor invalido\n"
          ]
        }
      ]
    },
    {
      "cell_type": "code",
      "source": [
        "numero = int(input(\"Ingrese un número entero: \"))\n",
        "\n",
        "if (numero % 2 == 0): #significa que el residuo es cero y el número es par.\n",
        "    print(f\"El número {numero} es par.\")\n",
        "elif (numero % 2 != 0):\n",
        "    print(f\"El número {numero} es impar.\")\n"
      ],
      "metadata": {
        "colab": {
          "base_uri": "https://localhost:8080/"
        },
        "id": "5ONFpPaaihL-",
        "outputId": "0fcb9a86-b7ab-4c35-94ec-3513f6a25034"
      },
      "execution_count": 114,
      "outputs": [
        {
          "output_type": "stream",
          "name": "stdout",
          "text": [
            "Ingrese un número entero: 8\n",
            "El número 8 es par.\n"
          ]
        }
      ]
    },
    {
      "cell_type": "code",
      "source": [
        "numero = input(\"Ingrese un número: \")\n",
        "\n",
        "if '.' in numero:\n",
        "    print(\"El número es decimal.\")\n",
        "else:\n",
        "    print(\"El número es entero.\")"
      ],
      "metadata": {
        "colab": {
          "base_uri": "https://localhost:8080/"
        },
        "id": "FxMwByHNihjj",
        "outputId": "ce6fc67b-b764-48df-963e-80b5f04f2310"
      },
      "execution_count": 116,
      "outputs": [
        {
          "output_type": "stream",
          "name": "stdout",
          "text": [
            "Ingrese un número: 8.5\n",
            "El número es decimal.\n"
          ]
        }
      ]
    },
    {
      "cell_type": "markdown",
      "source": [
        "## Momento de los proyectos\n",
        "\n",
        "10 - Un programa debe ser escrito para leer dos números y luego preguntar a la persona usuaria qué operación desea realizar. El resultado de la operación debe incluir información sobre el número, si es par o impar, positivo o negativo, e entero o decimal.\n",
        "\n",
        "11 - Escribe un programa que pida a la persona usuaria tres números que representan los lados de un triángulo. El programa debe informar si los valores pueden utilizarse para formar un triángulo y, en caso afirmativo, si es equilátero, isósceles o escaleno. Ten en cuenta algunas sugerencias:\n",
        "\n",
        "* Tres lados forman un triángulo cuando la suma de cualesquiera dos lados es mayor que el tercero;\n",
        "* Triángulo Equilátero: tres lados iguales;\n",
        "* Triángulo Isósceles: dos lados iguales;\n",
        "* Triángulo Escaleno: tres lados diferentes.\n",
        "\n",
        "12 - Un establecimiento está vendiendo combustibles con descuentos variables. Para el etanol, si la cantidad comprada es de hasta 15 litros, el descuento será del 2% por litro. En caso contrario, será del 4% por litro. Para el diésel, si la cantidad comprada es de hasta 15 litros, el descuento será del 3% por litro. En caso contrario, será del 5% por litro. El precio por litro de diésel es de $2 y el precio por litro de etanol es de 1,70. Escribe un programa que lea la cantidad de litros vendidos y el tipo de combustible (E para etanol y D para diésel) y calcule el valor a pagar por el cliente. Ten en cuenta algunas sugerencias:\n",
        "\n",
        "* El valor del descuento será el producto del precio por litro, la cantidad de litros y el valor del descuento.\n",
        "* El valor a pagar por un cliente será el resultado de la multiplicación del precio por litro por la cantidad de litros menos el valor del descuento resultante del cálculo.\n",
        "\n",
        "13 - En una empresa de venta de bienes raíces, debes crear un código que analice los datos de ventas anuales para ayudar a la dirección en la toma de decisiones. El código debe recopilar los datos de cantidad de ventas durante los años 2022 y 2023 y calcular la variación porcentual. A partir del valor de la variación, se deben proporcionar las siguientes sugerencias:\n",
        "\n",
        "* Para una variación superior al 20%: bonificación para el equipo de ventas.\n",
        "* Para una variación entre el 2% y el 20%: pequeña bonificación para el equipo de ventas.\n",
        "* Para una variación entre el 2% y el -10%: planificación de políticas de incentivo a las ventas.\n",
        "* Para bonificaciones inferiores al -10%: recorte de gastos."
      ],
      "metadata": {
        "id": "F9Tdd8MLBUqd"
      }
    },
    {
      "cell_type": "code",
      "source": [
        "nro1 = float(input(\"Ingrese el primer número: \"))\n",
        "nro2 = float(input(\"Ingrese el segundo número: \"))\n",
        "\n",
        "operacion = input(\"¿Qué operación desea realizar? (suma, resta, multiplicacion, division): \").lower()\n",
        "\n",
        "if operacion == \"suma\":\n",
        "    resultado = nro1 + nro2\n",
        "elif operacion == \"resta\":\n",
        "    resultado = nro1 - nro2\n",
        "elif operacion == \"multiplicacion\":\n",
        "    resultado = nro1 * nro2\n",
        "elif operacion == \"division\":\n",
        "    if nro2 == 0:\n",
        "        print(\"Error: No se puede dividir por cero.\")\n",
        "        exit()\n",
        "    resultado = nro1 / nro2\n",
        "else:\n",
        "    print(\"Operación no válida.\")\n",
        "    exit()\n",
        "\n",
        "if resultado % 1 == 0:\n",
        "    print(f\"El resultado {resultado} es entero.\")\n",
        "    resultado = int(resultado)\n",
        "else:\n",
        "    print(f\"El resultado {resultado} es decimal.\")\n",
        "\n",
        "if resultado % 1 == 0 and resultado % 2 == 0:\n",
        "    print(f\"El resultado {resultado} es par.\")\n",
        "elif resultado % 1 == 0:\n",
        "    print(f\"El resultado {resultado} es impar.\")\n",
        "\n",
        "if resultado > 0:\n",
        "    print(f\"El resultado {resultado} es positivo.\")\n",
        "elif resultado < 0:\n",
        "    print(f\"El resultado {resultado} es negativo.\")\n",
        "else:\n",
        "    print(f\"El resultado {resultado} es cero.\")\n",
        "\n"
      ],
      "metadata": {
        "colab": {
          "base_uri": "https://localhost:8080/"
        },
        "id": "rMqQrsujCvQ3",
        "outputId": "335b549d-ed39-4965-ae61-62d7a3d06bb4"
      },
      "execution_count": 119,
      "outputs": [
        {
          "output_type": "stream",
          "name": "stdout",
          "text": [
            "Ingrese el primer número: 5\n",
            "Ingrese el segundo número: 3\n",
            "¿Qué operación desea realizar? (suma, resta, multiplicacion, division): suma\n",
            "El resultado 8.0 es entero.\n",
            "El resultado 8 es par.\n",
            "El resultado 8 es positivo.\n"
          ]
        }
      ]
    },
    {
      "cell_type": "code",
      "source": [
        "lado1 = float(input(\"Ingrese el primer lado del triángulo: \"))\n",
        "lado2 = float(input(\"Ingrese el segundo lado del triángulo: \"))\n",
        "lado3 = float(input(\"Ingrese el tercer lado del triángulo: \"))\n",
        "\n",
        "if (lado1 + lado2 > lado3) and (lado1 + lado3 > lado2) and (lado2 + lado3 > lado1):\n",
        "    print(\"Los lados ingresados forman un triángulo.\")\n",
        "\n",
        "    if lado1 == lado2 == lado3:\n",
        "        print(\"El triángulo es equilátero.\")\n",
        "    elif lado1 == lado2 or lado1 == lado3 or lado2 == lado3:\n",
        "        print(\"El triángulo es isósceles.\")\n",
        "    else:\n",
        "        print(\"El triángulo es escaleno.\")\n",
        "else:\n",
        "    print(\"Los lados ingresados no forman un triángulo.\")\n"
      ],
      "metadata": {
        "colab": {
          "base_uri": "https://localhost:8080/"
        },
        "id": "5WgQL-RPCvde",
        "outputId": "6822151d-5f3a-4b9b-93f5-4744095d188e"
      },
      "execution_count": 123,
      "outputs": [
        {
          "output_type": "stream",
          "name": "stdout",
          "text": [
            "Ingrese el primer lado del triángulo: 3\n",
            "Ingrese el segundo lado del triángulo: 3\n",
            "Ingrese el tercer lado del triángulo: 3\n",
            "Los lados ingresados forman un triángulo.\n",
            "El triángulo es equilátero.\n"
          ]
        }
      ]
    },
    {
      "cell_type": "code",
      "source": [
        "precio_etanol = 1.70\n",
        "precio_diesel = 2.00\n",
        "\n",
        "litros = float(input(\"Ingrese la cantidad de litros vendidos: \"))\n",
        "tipo_combustible = input(\"Ingrese el tipo de combustible (E para etanol, D para diésel): \").upper()\n",
        "\n",
        "if tipo_combustible == \"E\":\n",
        "    if litros <= 15:\n",
        "        descuento = 0.02  # 2%\n",
        "    else:\n",
        "        descuento = 0.04  # 4%\n",
        "    precio_litro = precio_etanol\n",
        "elif tipo_combustible == \"D\":\n",
        "    if litros <= 15:\n",
        "        descuento = 0.03  # 3%\n",
        "    else:\n",
        "        descuento = 0.05  # 5%\n",
        "    precio_litro = precio_diesel\n",
        "else:\n",
        "    print(\"Tipo de combustible inválido.\")\n",
        "    exit()\n",
        "\n",
        "# Calcular el valor del descuento y el total a pagar\n",
        "descuento_total = precio_litro * litros * descuento\n",
        "valor_a_pagar = (precio_litro * litros) - descuento_total\n",
        "\n",
        "# Mostrar el resultado\n",
        "print(f\"Valor a pagar: ${valor_a_pagar:.2f}\")"
      ],
      "metadata": {
        "colab": {
          "base_uri": "https://localhost:8080/"
        },
        "id": "n1suSMSeCvoO",
        "outputId": "9ecbc748-26eb-4662-bfa3-662599e12b4b"
      },
      "execution_count": 124,
      "outputs": [
        {
          "output_type": "stream",
          "name": "stdout",
          "text": [
            "Ingrese la cantidad de litros vendidos: 10\n",
            "Ingrese el tipo de combustible (E para etanol, D para diésel): e\n",
            "Valor a pagar: $16.66\n"
          ]
        }
      ]
    },
    {
      "cell_type": "code",
      "source": [
        "ventas_2022 = int(input(\"Ingrese la cantidad de ventas en 2022: \"))\n",
        "ventas_2023 = int(input(\"Ingrese la cantidad de ventas en 2023: \"))\n",
        "\n",
        "variacion = ((ventas_2023 - ventas_2022) / ventas_2022) * 100\n",
        "print(f\"Variación porcentual: {variacion:.2f}%\")\n",
        "\n",
        "if variacion > 20:\n",
        "    print(\"Sugerencia: Bonificación para el equipo de ventas.\")\n",
        "elif 2 <= variacion <= 20:\n",
        "    print(\"Sugerencia: Pequeña bonificación para el equipo de ventas.\")\n",
        "elif -10 <= variacion < 2:\n",
        "    print(\"Sugerencia: Planificación de políticas de incentivo a las ventas.\")\n",
        "else:\n",
        "    print(\"Sugerencia: Recorte de gastos.\")"
      ],
      "metadata": {
        "colab": {
          "base_uri": "https://localhost:8080/"
        },
        "id": "Idw0rZL8CvxX",
        "outputId": "9c70db64-260e-4bc4-d691-78fbf9cacbad"
      },
      "execution_count": 125,
      "outputs": [
        {
          "output_type": "stream",
          "name": "stdout",
          "text": [
            "Ingrese la cantidad de ventas en 2022: 100\n",
            "Ingrese la cantidad de ventas en 2023: 200\n",
            "Variación porcentual: 100.00%\n",
            "Sugerencia: Bonificación para el equipo de ventas.\n"
          ]
        }
      ]
    },
    {
      "cell_type": "markdown",
      "source": [
        "# Estructuras de repetición"
      ],
      "metadata": {
        "id": "aL1vJPewvwvz"
      }
    },
    {
      "cell_type": "markdown",
      "source": [
        "Cuando tenemos que ejecutar un mismo bloque de comandos durante varias ocasiones no es nada práctico hacerlo a mano.\n",
        "\n",
        "**Situación**: Nos fue solicitado obtener e imprimir el promedio de 2 notas de **3 estudantes**:"
      ],
      "metadata": {
        "id": "VcPfCa8d-84t"
      }
    },
    {
      "cell_type": "code",
      "source": [
        "nota_1 = float(input('Digite la nota 1: '))\n",
        "nota_2 = float(input('Digite la nota 2: '))\n",
        "print(f'El promedio del estudiante 1 es:  {(nota_1 + nota_2) / 2}')\n",
        "\n",
        "nota_1 = float(input('Digite la nota 1: '))\n",
        "nota_2 = float(input('Digite la nota 2: '))\n",
        "print(f'El promedio del estudiante 2 es:  {(nota_1 + nota_2) / 2}')\n",
        "\n",
        "nota_1 = float(input('Digite la nota 1: '))\n",
        "nota_2 = float(input('Digite la nota 2: '))\n",
        "print(f'El promedio del estudiante 3 es:  {(nota_1 + nota_2) / 2}')"
      ],
      "metadata": {
        "id": "xcx21IGT9qA0",
        "colab": {
          "base_uri": "https://localhost:8080/"
        },
        "outputId": "771b4eb2-5b08-4907-b9e7-6e430c4cc048"
      },
      "execution_count": 126,
      "outputs": [
        {
          "output_type": "stream",
          "name": "stdout",
          "text": [
            "Digite la nota 1: 6.5\n",
            "Digite la nota 2: 8.5\n",
            "El promedio del estudiante 1 es:  7.5\n",
            "Digite la nota 1: 8.3\n",
            "Digite la nota 2: 9\n",
            "El promedio del estudiante 2 es:  8.65\n",
            "Digite la nota 1: 3\n",
            "Digite la nota 2: 10\n",
            "El promedio del estudiante 3 es:  6.5\n"
          ]
        }
      ]
    },
    {
      "cell_type": "markdown",
      "source": [
        "Ahora imaginemos una situación en que no son tan solo 3 estudiantes, sino 100 estudiantes. No sería nada interesante repetir el mismo código 100 veces, sino **ejecutar el mismo código 100 veces**.\n",
        "\n",
        "¡Esta estructura la logramos construir con lazos de repetición!"
      ],
      "metadata": {
        "id": "9puIuvUbFSFX"
      }
    },
    {
      "cell_type": "markdown",
      "source": [
        "## `WHILE`"
      ],
      "metadata": {
        "id": "uLO9-aE4-wx8"
      }
    },
    {
      "cell_type": "markdown",
      "source": [
        "El lazo `while` es una estructura de control de repetición en Python que permite ejecutar un bloque de código repetidamente mientras que una determinada condición sea verdadera. Su estructura es:\n",
        "\n",
        "\n",
        "\n",
        "```\n",
        "while condicion:\n",
        "    # bloque de codigo\n",
        "```\n",
        "\n",
        "Vamos a construir un ejemplo con un contador de 1 hasta 10.\n"
      ],
      "metadata": {
        "id": "rXZxDMiqHxm9"
      }
    },
    {
      "cell_type": "code",
      "source": [
        "contador = 1\n",
        "while contador <= 10:\n",
        "  print(contador)\n",
        "  # contador = contador + 1\n",
        "  contador += 1"
      ],
      "metadata": {
        "id": "Hd0ZSWxD9wCD",
        "colab": {
          "base_uri": "https://localhost:8080/"
        },
        "outputId": "dafd980b-f6b9-44d1-f1b7-9d3afbc7ee05"
      },
      "execution_count": 128,
      "outputs": [
        {
          "output_type": "stream",
          "name": "stdout",
          "text": [
            "1\n",
            "2\n",
            "3\n",
            "4\n",
            "5\n",
            "6\n",
            "7\n",
            "8\n",
            "9\n",
            "10\n"
          ]
        }
      ]
    },
    {
      "cell_type": "markdown",
      "source": [
        "Ahora vamos a colectar las notas y promedios de cada alumno dentro del lazo `while`. Haremos un ejemplo con 3 promedios."
      ],
      "metadata": {
        "id": "W4KZPBJuIrut"
      }
    },
    {
      "cell_type": "code",
      "source": [
        "contador = 1\n",
        "while contador <= 3:\n",
        "  nota_1 = float(input('Digite la nota 1: '))\n",
        "  nota_2 = float(input('Digite la nota 2: '))\n",
        "  print(f'El promedio del estudiante {contador} es:  {(nota_1 + nota_2) / 2}')\n",
        "  contador +=1\n",
        ""
      ],
      "metadata": {
        "id": "9T5eCLFx9wk6",
        "colab": {
          "base_uri": "https://localhost:8080/"
        },
        "outputId": "76995d83-e4bc-488a-c75e-35972927ebed"
      },
      "execution_count": 129,
      "outputs": [
        {
          "output_type": "stream",
          "name": "stdout",
          "text": [
            "Digite la nota 1: 8.5\n",
            "Digite la nota 2: 5.7\n",
            "El promedio del estudiante 1 es:  7.1\n",
            "Digite la nota 1: .5\n",
            "Digite la nota 2: 10\n",
            "El promedio del estudiante 2 es:  5.25\n",
            "Digite la nota 1: 9\n",
            "Digite la nota 2: 7\n",
            "El promedio del estudiante 3 es:  8.0\n"
          ]
        }
      ]
    },
    {
      "cell_type": "markdown",
      "source": [
        "## `FOR`"
      ],
      "metadata": {
        "id": "WgAIaENMMfCP"
      }
    },
    {
      "cell_type": "markdown",
      "source": [
        "El lazo `for` es un tipo de estructura de control de flujo en Python que permite iterar sobre un conjunto de elementos. Su estructura es:\n",
        "\n",
        "\n",
        "\n",
        "```\n",
        "for elemento in conjunto:\n",
        "    # codigo a ser ejecutado para cada elemento\n",
        "```\n",
        "\n",
        "El lazo `for` itera sobre cada elemento del conjunto especificado y ejecuta el bloque de código dentro del lazo para cada elemento. Cuando el lazo llega al final del conjunto, este se interrumpe y el programa continúa la ejecución después del lazo.\n",
        "\n"
      ],
      "metadata": {
        "id": "HxrSZoRAMh-x"
      }
    },
    {
      "cell_type": "markdown",
      "source": [
        "El conjunto lo podemos generar con la función incorporada [`range()`](https://docs.python.org/3/library/functions.html#func-range). Se trata de una función capaz de generar una secuencia de números enteros. La estructura de esta función es:\n",
        "\n",
        "```\n",
        "range(inicio, fin, paso)\n",
        "```\n",
        "\n",
        "Según la documentación, `range()` genera una secuencia de números enteros a partir del valor del parámetro `inicio` hasta el valor del parámetro `fin`, de acuerdo con el valor del parámetro `paso`. Si `inicio` no es especificado, el valor por defecto es `0`. Si `paso` no es especificado, el valor por defecto es `1`.\n",
        "\n",
        "\n"
      ],
      "metadata": {
        "id": "6VgjyoQtPHBM"
      }
    },
    {
      "cell_type": "markdown",
      "source": [
        "Vamos a recrear el mismo contador `while` con el lazo `for`."
      ],
      "metadata": {
        "id": "ryn0hfdlUwC8"
      }
    },
    {
      "cell_type": "code",
      "source": [
        "for n in range(1,11):\n",
        "  print(n)"
      ],
      "metadata": {
        "id": "KkL1wUIj9jL4",
        "colab": {
          "base_uri": "https://localhost:8080/"
        },
        "outputId": "004810c7-c500-45b7-a31b-3c482020cbb8"
      },
      "execution_count": 130,
      "outputs": [
        {
          "output_type": "stream",
          "name": "stdout",
          "text": [
            "1\n",
            "2\n",
            "3\n",
            "4\n",
            "5\n",
            "6\n",
            "7\n",
            "8\n",
            "9\n",
            "10\n"
          ]
        }
      ]
    },
    {
      "cell_type": "code",
      "source": [
        "for e in range(1,4):\n",
        "  nota_1 = float(input('Digite la nota 1: '))\n",
        "  nota_2 = float(input('Digite la nota 2: '))\n",
        "  print(f'El promedio del estudiante {e} es:  {(nota_1 + nota_2) / 2}')\n",
        ""
      ],
      "metadata": {
        "id": "uXIZnLSr9jOu",
        "colab": {
          "base_uri": "https://localhost:8080/"
        },
        "outputId": "fcb06b39-c882-4fe9-8f47-c681b8e52c09"
      },
      "execution_count": 133,
      "outputs": [
        {
          "output_type": "stream",
          "name": "stdout",
          "text": [
            "Digite la nota 1: 7\n",
            "Digite la nota 2: 8\n",
            "El promedio del estudiante 1 es:  7.5\n",
            "Digite la nota 1: 8\n",
            "Digite la nota 2: 9\n",
            "El promedio del estudiante 2 es:  8.5\n",
            "Digite la nota 1: 10\n",
            "Digite la nota 2: 5\n",
            "El promedio del estudiante 3 es:  7.5\n"
          ]
        }
      ]
    },
    {
      "cell_type": "markdown",
      "source": [
        "# **Desafío**: ¡Es hora de practicar!"
      ],
      "metadata": {
        "id": "XLIJRYeTZbUn"
      }
    },
    {
      "cell_type": "markdown",
      "source": [
        "## Entrenando la programación\n",
        "\n",
        "1 - Escribe un programa que solicite dos números enteros e imprima todos los números enteros entre ellos.\n",
        "\n",
        "2 - Escribe un programa para calcular cuántos días tomará que la colonia de una bacteria A supere o iguale a la colonia de una bacteria B, basado en tasas de crecimiento del 3% y 1.5%, respectivamente. Supón que la colonia A comienza con 4 elementos y B con 10.\n",
        "\n",
        "3 - Para procesar una cantidad de 15 datos de evaluaciones de usuarios de un servicio de la empresa, necesitamos verificar si las calificaciones son válidas. Por lo tanto, escribe un programa que recibirá calificaciones del 0 al 5 y verificará si son valores válidos. Si se ingresa una calificación superior a 5 o inferior a 0, se repetirá hasta que el usuario ingrese un valor válido.\n",
        "\n",
        "4 - Desarrolla un programa que lea un conjunto indefinido de temperaturas en grados Celsius y calcule su promedio. La lectura debe detenerse al ingresar el valor -273°C.\n",
        "\n",
        "5 - Escribe un programa que calcule el factorial de un número entero proporcionado por el usuario. Recuerda que el factorial de un número entero es el producto de ese número por todos sus antecesores hasta llegar al número 1. Por ejemplo, el factorial de 5 es 5 x 4 x 3 x 2 x 1 = 120."
      ],
      "metadata": {
        "id": "zb38I8mNZi3O"
      }
    },
    {
      "cell_type": "code",
      "source": [
        "A = int(input(\"Ingrese un número entero: \"))\n",
        "B = int(input(\"Ingrese otro número entero: \"))\n",
        "\n",
        "for n in range(A,B+1):\n",
        "  print(n)"
      ],
      "metadata": {
        "colab": {
          "base_uri": "https://localhost:8080/"
        },
        "id": "q29mUNfhZmXM",
        "outputId": "cb62e067-2980-4459-eb21-803542088bea"
      },
      "execution_count": 135,
      "outputs": [
        {
          "output_type": "stream",
          "name": "stdout",
          "text": [
            "Ingrese un número entero: 1\n",
            "Ingrese otro número entero: 10\n",
            "1\n",
            "2\n",
            "3\n",
            "4\n",
            "5\n",
            "6\n",
            "7\n",
            "8\n",
            "9\n",
            "10\n"
          ]
        }
      ]
    },
    {
      "cell_type": "code",
      "source": [
        "bacteria_a = 4\n",
        "bacteria_b = 10\n",
        "tasa_a = 0.03  # 3% de crecimiento diario\n",
        "tasa_b = 0.015  # 1.5% de crecimiento diario\n",
        "\n",
        "dias = 0\n",
        "\n",
        "while bacteria_a < bacteria_b:\n",
        "    bacteria_a += bacteria_a * tasa_a\n",
        "    bacteria_b += bacteria_b * tasa_b\n",
        "    dias += 1\n",
        "\n",
        "print(f\"La colonia de la bacteria A superará o igualará a la de B en {dias} días.\")"
      ],
      "metadata": {
        "colab": {
          "base_uri": "https://localhost:8080/"
        },
        "id": "r0Hw7K6OZme9",
        "outputId": "df0df2a8-83a5-422a-f991-0f6c7b923f59"
      },
      "execution_count": 136,
      "outputs": [
        {
          "output_type": "stream",
          "name": "stdout",
          "text": [
            "La colonia de la bacteria A superará o igualará a la de B en 63 días.\n"
          ]
        }
      ]
    },
    {
      "cell_type": "code",
      "source": [
        "num_evaluaciones = 15\n",
        "\n",
        "datos = \"Calificaciones válidas ingresadas:\"\n",
        "for i in range(num_evaluaciones):\n",
        "    while True:\n",
        "        calificacion = float(input(f\"Ingrese la calificación {i + 1} (0 a 5): \"))\n",
        "        if 0 <= calificacion <= 5:\n",
        "            datos += f\" {calificacion}\"\n",
        "            break\n",
        "        else:\n",
        "            print(\"Calificación inválida. Ingrese un valor entre 0 y 5.\")\n",
        "\n",
        "print(datos)"
      ],
      "metadata": {
        "colab": {
          "base_uri": "https://localhost:8080/"
        },
        "id": "O3h2V6GMZmnE",
        "outputId": "2caaaaec-4635-4bf4-8b0c-ba61346ff7aa"
      },
      "execution_count": 139,
      "outputs": [
        {
          "output_type": "stream",
          "name": "stdout",
          "text": [
            "Ingrese la calificación 1 (0 a 5): 7\n",
            "Calificación inválida. Ingrese un valor entre 0 y 5.\n",
            "Ingrese la calificación 1 (0 a 5): 4\n",
            "Ingrese la calificación 2 (0 a 5): 5\n",
            "Ingrese la calificación 3 (0 a 5): 4\n",
            "Ingrese la calificación 4 (0 a 5): 5\n",
            "Ingrese la calificación 5 (0 a 5): 1\n",
            "Ingrese la calificación 6 (0 a 5): 3\n",
            "Ingrese la calificación 7 (0 a 5): 5\n",
            "Ingrese la calificación 8 (0 a 5): 4\n",
            "Ingrese la calificación 9 (0 a 5): 3\n",
            "Ingrese la calificación 10 (0 a 5): 8\n",
            "Calificación inválida. Ingrese un valor entre 0 y 5.\n",
            "Ingrese la calificación 10 (0 a 5): 7\n",
            "Calificación inválida. Ingrese un valor entre 0 y 5.\n",
            "Ingrese la calificación 10 (0 a 5): 5\n",
            "Ingrese la calificación 11 (0 a 5): 4\n",
            "Ingrese la calificación 12 (0 a 5): 6\n",
            "Calificación inválida. Ingrese un valor entre 0 y 5.\n",
            "Ingrese la calificación 12 (0 a 5): 1\n",
            "Ingrese la calificación 13 (0 a 5): 2\n",
            "Ingrese la calificación 14 (0 a 5): 4\n",
            "Ingrese la calificación 15 (0 a 5): 1\n",
            "Calificaciones válidas ingresadas: 4.0 5.0 4.0 5.0 1.0 3.0 5.0 4.0 3.0 5.0 4.0 1.0 2.0 4.0 1.0\n"
          ]
        }
      ]
    },
    {
      "cell_type": "code",
      "source": [
        "suma_temperaturas = 0\n",
        "cantidad = 0\n",
        "\n",
        "while True:\n",
        "    temperatura = float(input(\"Ingrese una temperatura en °C (-273 para finalizar): \"))\n",
        "    if temperatura == -273:\n",
        "        break\n",
        "    suma_temperaturas += temperatura\n",
        "    cantidad += 1\n",
        "\n",
        "if cantidad > 0:\n",
        "    promedio = suma_temperaturas / cantidad\n",
        "    print(f\"El promedio de las temperaturas ingresadas es: {promedio:.2f}°C\")\n",
        "else:\n",
        "    print(\"No se ingresaron temperaturas válidas.\")"
      ],
      "metadata": {
        "colab": {
          "base_uri": "https://localhost:8080/"
        },
        "id": "daUS9I9xZmue",
        "outputId": "58d43107-ff26-4d23-9860-ba5b28105fae"
      },
      "execution_count": 140,
      "outputs": [
        {
          "output_type": "stream",
          "name": "stdout",
          "text": [
            "Ingrese una temperatura en °C (-273 para finalizar): 27\n",
            "Ingrese una temperatura en °C (-273 para finalizar): 15\n",
            "Ingrese una temperatura en °C (-273 para finalizar): 6\n",
            "Ingrese una temperatura en °C (-273 para finalizar): 4\n",
            "Ingrese una temperatura en °C (-273 para finalizar): -273\n",
            "El promedio de las temperaturas ingresadas es: 13.00°C\n"
          ]
        }
      ]
    },
    {
      "cell_type": "code",
      "source": [
        "numero = int(input(\"Ingrese un número entero para calcular su factorial: \"))\n",
        "\n",
        "factorial = 1\n",
        "for i in range(1, numero + 1):\n",
        "    factorial *= i\n",
        "\n",
        "print(f\"El factorial de {numero} es {factorial}\")"
      ],
      "metadata": {
        "colab": {
          "base_uri": "https://localhost:8080/"
        },
        "id": "QTymQY62Zm2t",
        "outputId": "5a00af98-bb5e-40ce-d9e7-ea2270724379"
      },
      "execution_count": 144,
      "outputs": [
        {
          "output_type": "stream",
          "name": "stdout",
          "text": [
            "Ingrese un número entero para calcular su factorial: 5\n",
            "El factorial de 5 es 120\n"
          ]
        }
      ]
    },
    {
      "cell_type": "markdown",
      "source": [
        "## Momento de los proyectos\n",
        "\n",
        "6 - Escribe un programa que genere la tabla de multiplicar de un número entero del 1 al 10, según la elección del usuario. Como ejemplo, para el número 2, la tabla de multiplicar debe mostrarse en el siguiente formato:\n",
        "\n",
        "Tabla de multiplicar del 2:\n",
        "2 x 1 = 2\n",
        "2 x 2 = 4\n",
        "[...]\n",
        "2 x 10 = 20\n",
        "\n",
        "7 - Los números primos tienen diversas aplicaciones en Ciencia de Datos, como en criptografía y seguridad. Un número primo es aquel que es divisible solo por sí mismo y por 1. Por lo tanto, crea un programa que solicite un número entero y determine si es un número primo o no.\n",
        "\n",
        "8 - Vamos a comprender la distribución de edades de los pensionistas de una empresa de seguros. Escribe un programa que lea las edades de una cantidad no informada de clientes y muestre la distribución en los intervalos [0-25], [26-50], [51-75] y [76-100]. La entrada de datos se detendrá al ingresar un número negativo.\n",
        "\n",
        "9 - En una elección para la gerencia de una empresa con 20 empleados, hay cuatro candidatos. Escribe un programa que calcule al ganador de la elección. La votación se realizó de la siguiente manera:\n",
        "\n",
        "Cada empleado votó por uno de los cuatro candidatos (representados por los números 1, 2, 3 y 4).\n",
        "\n",
        "También se contaron los votos nulos (representados por el número 5) y los votos en blanco (representados por el número 6).\n",
        "\n",
        "Al final de la votación, el programa debe mostrar el número total de votos para cada candidato, los votos nulos y los votos en blanco. Además, debe calcular y mostrar el porcentaje de votos nulos con respecto al total de votos y el porcentaje de votos en blanco con respecto al total de votos."
      ],
      "metadata": {
        "id": "VGTZfOnpdhiY"
      }
    },
    {
      "cell_type": "code",
      "source": [
        "numero = int(input(\"Ingrese un número entero para mostrar su tabla de multiplicar: \"))\n",
        "\n",
        "print(f\"Tabla de multiplicar del {numero}:\")\n",
        "for i in range(1, 11):\n",
        "    print(f\"{numero} x {i} = {numero * i}\\n\")"
      ],
      "metadata": {
        "colab": {
          "base_uri": "https://localhost:8080/"
        },
        "id": "4H2zQFBhdqXP",
        "outputId": "0405899f-7c0e-44f0-aad8-63b2cd9ca08c"
      },
      "execution_count": 146,
      "outputs": [
        {
          "output_type": "stream",
          "name": "stdout",
          "text": [
            "Ingrese un número entero para mostrar su tabla de multiplicar: 2\n",
            "Tabla de multiplicar del 2:\n",
            "2 x 1 = 2\n",
            "\n",
            "2 x 2 = 4\n",
            "\n",
            "2 x 3 = 6\n",
            "\n",
            "2 x 4 = 8\n",
            "\n",
            "2 x 5 = 10\n",
            "\n",
            "2 x 6 = 12\n",
            "\n",
            "2 x 7 = 14\n",
            "\n",
            "2 x 8 = 16\n",
            "\n",
            "2 x 9 = 18\n",
            "\n",
            "2 x 10 = 20\n",
            "\n"
          ]
        }
      ]
    },
    {
      "cell_type": "code",
      "source": [
        "num = int(input('Ingresa un número entero: '))\n",
        "\n",
        "if num > 1:\n",
        "    for i in range(2, num):\n",
        "        if (num % i) == 0:\n",
        "            print(f'{num} no es un número primo')\n",
        "            break\n",
        "    else:\n",
        "        print(f'{num} es un número primo')\n",
        "else:\n",
        "    print(f'{num} no es un número primo')"
      ],
      "metadata": {
        "colab": {
          "base_uri": "https://localhost:8080/"
        },
        "id": "KNIrMpMrdqf3",
        "outputId": "758e9cd7-8eb5-4b5d-bc78-eca3a15d0608"
      },
      "execution_count": 149,
      "outputs": [
        {
          "output_type": "stream",
          "name": "stdout",
          "text": [
            "Ingresa un número entero: 5\n",
            "5 es un número primo\n"
          ]
        }
      ]
    },
    {
      "cell_type": "code",
      "source": [
        "edad = int(input('Ingresa la edad (o un número negativo para finalizar): '))\n",
        "\n",
        "contador_0_25 = 0\n",
        "contador_26_50 = 0\n",
        "contador_51_75 = 0\n",
        "contador_76_100 = 0\n",
        "\n",
        "while edad >= 0:\n",
        "\n",
        "    if edad >= 0 and edad <= 25:\n",
        "        contador_0_25 += 1\n",
        "    elif edad >= 26 and edad <= 50:\n",
        "        contador_26_50 += 1\n",
        "    elif edad >= 51 and edad <= 75:\n",
        "        contador_51_75 += 1\n",
        "    elif edad >= 76 and edad <= 100:\n",
        "        contador_76_100 += 1\n",
        "\n",
        "\n",
        "    edad = int(input('Ingresa la edad (o un número negativo para finalizar): '))\n",
        "\n",
        "\n",
        "print('Distribución de edades:')\n",
        "print('[0-25]:', contador_0_25)\n",
        "print('[26-50]:', contador_26_50)\n",
        "print('[51-75]:', contador_51_75)\n",
        "print('[76-100]:', contador_76_100)"
      ],
      "metadata": {
        "colab": {
          "base_uri": "https://localhost:8080/"
        },
        "id": "C9fqZEM-er6j",
        "outputId": "8d1e57e5-1346-4c98-b9e5-944f0354f083"
      },
      "execution_count": 152,
      "outputs": [
        {
          "output_type": "stream",
          "name": "stdout",
          "text": [
            "Ingresa la edad (o un número negativo para finalizar): 10\n",
            "Ingresa la edad (o un número negativo para finalizar): 20\n",
            "Ingresa la edad (o un número negativo para finalizar): 5\n",
            "Ingresa la edad (o un número negativo para finalizar): -2\n",
            "Distribución de edades:\n",
            "[0-25]: 3\n",
            "[26-50]: 0\n",
            "[51-75]: 0\n",
            "[76-100]: 0\n"
          ]
        }
      ]
    },
    {
      "cell_type": "code",
      "source": [
        "votos_candidato1 = 0\n",
        "votos_candidato2 = 0\n",
        "votos_candidato3 = 0\n",
        "votos_candidato4 = 0\n",
        "votos_nulos = 0\n",
        "votos_blanco = 0\n",
        "\n",
        "for i in range(0, 20):\n",
        "    voto = int(input('Ingresa tu voto: '))\n",
        "    if voto == 1:\n",
        "        votos_candidato1 += 1\n",
        "    elif voto == 2:\n",
        "        votos_candidato2 += 1\n",
        "    elif voto == 3:\n",
        "        votos_candidato3 += 1\n",
        "    elif voto == 4:\n",
        "        votos_candidato4 += 1\n",
        "    elif voto == 5:\n",
        "        votos_nulos += 1\n",
        "    elif voto == 6:\n",
        "        votos_blanco += 1\n",
        "    else:\n",
        "        print(\"Voto inválido.\")\n",
        "\n",
        "print(f'Votos candidato 1: {votos_candidato1}')\n",
        "print(f'Votos candidato 2: {votos_candidato2}')\n",
        "print(f'Votos candidato 3: {votos_candidato3}')\n",
        "print(f'Votos candidato 4: {votos_candidato4}')\n",
        "print(f'Votos nulos: {votos_nulos}')\n",
        "print(f'Votos en blanco: {votos_blanco}')\n",
        "print(f'Porcentaje de votos nulos: {(votos_nulos / 20 * 100)}')\n",
        "print(f'Porcentaje de votos en blanco: {(votos_blanco / 20 * 100)}')"
      ],
      "metadata": {
        "colab": {
          "base_uri": "https://localhost:8080/"
        },
        "id": "Hvf-MCeeesBO",
        "outputId": "ca651b39-510c-474d-e915-62f5d91b43d2"
      },
      "execution_count": 155,
      "outputs": [
        {
          "output_type": "stream",
          "name": "stdout",
          "text": [
            "Ingresa tu voto: 4\n",
            "Ingresa tu voto: 1\n",
            "Ingresa tu voto: 7\n",
            "Voto inválido.\n",
            "Ingresa tu voto: 8\n",
            "Voto inválido.\n",
            "Ingresa tu voto: 6\n",
            "Ingresa tu voto: 2\n",
            "Ingresa tu voto: 5\n",
            "Ingresa tu voto: 4\n",
            "Ingresa tu voto: 1\n",
            "Ingresa tu voto: 2\n",
            "Ingresa tu voto: 3\n",
            "Ingresa tu voto: 6\n",
            "Ingresa tu voto: 9\n",
            "Voto inválido.\n",
            "Ingresa tu voto: 8\n",
            "Voto inválido.\n",
            "Ingresa tu voto: 5\n",
            "Ingresa tu voto: 4\n",
            "Ingresa tu voto: 1\n",
            "Ingresa tu voto: 2\n",
            "Ingresa tu voto: 4\n",
            "Ingresa tu voto: 7\n",
            "Voto inválido.\n",
            "Votos candidato 1: 3\n",
            "Votos candidato 2: 3\n",
            "Votos candidato 3: 1\n",
            "Votos candidato 4: 4\n",
            "Votos nulos: 2\n",
            "Votos en blanco: 2\n",
            "Porcentaje de votos nulos: 10.0\n",
            "Porcentaje de votos en blanco: 10.0\n"
          ]
        }
      ]
    },
    {
      "cell_type": "markdown",
      "source": [
        "# Estructuras de datos"
      ],
      "metadata": {
        "id": "8noP8OJ0Vhux"
      }
    },
    {
      "cell_type": "markdown",
      "source": [
        "Un conjunto de elementos es una colección de items, que son almacenados juntos de manera organizada. Algunos ejemplos de conjuntos de elementos en Python son las listas, los strings y los diccionarios."
      ],
      "metadata": {
        "id": "xpEUkefTu8fY"
      }
    },
    {
      "cell_type": "markdown",
      "source": [
        "## Listas"
      ],
      "metadata": {
        "id": "THSg4KYLwxIb"
      }
    },
    {
      "cell_type": "markdown",
      "source": [
        "Las listas pueden almacenar una colección de items en orden. Ellas son delimitadas por corchetes `[]` y sus elementos son separados por comas.\n",
        "\n",
        "Estas pueden almacenar cualquier tipo de items, incluyendo números, strings, objetos, otras listas, entre otros. También nos permiten almacenar items de tipos de datos diferentes juntos en una única lista."
      ],
      "metadata": {
        "id": "dzpsiqrOyJcK"
      }
    },
    {
      "cell_type": "code",
      "source": [
        "lista = ['Penélope Camacho',9.5,9.0,9.7,True]\n",
        "lista"
      ],
      "metadata": {
        "id": "DO3TBj7nAYeG",
        "colab": {
          "base_uri": "https://localhost:8080/"
        },
        "outputId": "c1dff6e9-3c26-4226-f8d3-d052718a99c3"
      },
      "execution_count": 157,
      "outputs": [
        {
          "output_type": "execute_result",
          "data": {
            "text/plain": [
              "['Penélope Camacho', 9.5, 9.0, 9.7, True]"
            ]
          },
          "metadata": {},
          "execution_count": 157
        }
      ]
    },
    {
      "cell_type": "code",
      "source": [
        "type(lista)"
      ],
      "metadata": {
        "id": "DO2ubP9N9D_2",
        "colab": {
          "base_uri": "https://localhost:8080/"
        },
        "outputId": "c1503c3d-39fe-469e-a443-fd17963313cf"
      },
      "execution_count": 158,
      "outputs": [
        {
          "output_type": "execute_result",
          "data": {
            "text/plain": [
              "list"
            ]
          },
          "metadata": {},
          "execution_count": 158
        }
      ]
    },
    {
      "cell_type": "markdown",
      "source": [
        "Las listas son organizadas en Python porque **cada elemento de la lista tiene un índice que indica su posición al interior de la lista**. Los índices comienzan en 0 van hasta el tamaño de la lista menos 1."
      ],
      "metadata": {
        "id": "qUz3sJNl6LgK"
      }
    },
    {
      "cell_type": "markdown",
      "source": [
        "Tenemos entonces 5 elementos con índices que varían de 0 a 4, ordenadamente:\n",
        "\n",
        "```\n",
        "#             [0]           [1]   [2]   [3]    [4]\n",
        "lista = ['Penélope Camacho', 9.5 , 9.0 , 9.7 , True]\n",
        "```\n",
        "\n",
        "En Python tenemos también los índices **negativos** que se inician en el último elemento con el valor de `-1` y avanzan en el universo de los negativos hasta llegar al 1° elemento:\n",
        "\n",
        "```\n",
        "#             [-5]         [-4]  [-3]  [-2]   [-1]\n",
        "lista = ['Penélope Camacho', 9.5 , 9.0 , 9.7 , True]\n",
        "```\n",
        "\n",
        "Logramos seleccionar separadamente cada elemento a través de sus respectivos índices. Colocando el nombre de la lista y en seguida el índice que será seleccionado."
      ],
      "metadata": {
        "id": "rLf-Qg526hFD"
      }
    },
    {
      "cell_type": "code",
      "source": [
        "print(lista[0])\n",
        "type(lista[0])"
      ],
      "metadata": {
        "id": "4hco1Zqy88Kw",
        "colab": {
          "base_uri": "https://localhost:8080/"
        },
        "outputId": "33e439e2-3ca1-44a1-d473-6e037b20e9e8"
      },
      "execution_count": 161,
      "outputs": [
        {
          "output_type": "stream",
          "name": "stdout",
          "text": [
            "Penélope Camacho\n"
          ]
        },
        {
          "output_type": "execute_result",
          "data": {
            "text/plain": [
              "str"
            ]
          },
          "metadata": {},
          "execution_count": 161
        }
      ]
    },
    {
      "cell_type": "code",
      "source": [
        "print(lista[1])\n",
        "type(lista[1])"
      ],
      "metadata": {
        "id": "M8lH0I2288Ph",
        "colab": {
          "base_uri": "https://localhost:8080/"
        },
        "outputId": "9300f4b4-d4bc-42fd-e3e0-559fe1958352"
      },
      "execution_count": 162,
      "outputs": [
        {
          "output_type": "stream",
          "name": "stdout",
          "text": [
            "9.5\n"
          ]
        },
        {
          "output_type": "execute_result",
          "data": {
            "text/plain": [
              "float"
            ]
          },
          "metadata": {},
          "execution_count": 162
        }
      ]
    },
    {
      "cell_type": "code",
      "source": [
        "print(lista[-1])\n",
        "type(lista[-1])"
      ],
      "metadata": {
        "colab": {
          "base_uri": "https://localhost:8080/"
        },
        "id": "u6ANBW8SmBly",
        "outputId": "a1311162-7f7f-4c7e-f295-06462f09d5b8"
      },
      "execution_count": 163,
      "outputs": [
        {
          "output_type": "stream",
          "name": "stdout",
          "text": [
            "True\n"
          ]
        },
        {
          "output_type": "execute_result",
          "data": {
            "text/plain": [
              "bool"
            ]
          },
          "metadata": {},
          "execution_count": 163
        }
      ]
    },
    {
      "cell_type": "markdown",
      "source": [
        "Una forma más dinámica de trabajar item a item en una lista es utilizando un lazo `for` para leer un elemento a la vez."
      ],
      "metadata": {
        "id": "6TaE1ijmBTCd"
      }
    },
    {
      "cell_type": "code",
      "source": [
        "for elemento in lista:\n",
        "  print(elemento)"
      ],
      "metadata": {
        "colab": {
          "base_uri": "https://localhost:8080/"
        },
        "id": "th-0Dwi1l9Cy",
        "outputId": "ee94035f-38e9-44fd-a8cd-2474767f1369"
      },
      "execution_count": 164,
      "outputs": [
        {
          "output_type": "stream",
          "name": "stdout",
          "text": [
            "Penélope Camacho\n",
            "9.5\n",
            "9.0\n",
            "9.7\n",
            "True\n"
          ]
        }
      ]
    },
    {
      "cell_type": "markdown",
      "source": [
        "**Situación**: La nota `9.0` de Penélope necesita ser ajustada pues ganó 1 punto en su última nota por participación en clase. Entonces es necesario realizar un cambio en el índice `2` de `9.0` a `10.0`."
      ],
      "metadata": {
        "id": "Dh1_HnIVvucY"
      }
    },
    {
      "cell_type": "code",
      "source": [
        "lista[2] = 10.0"
      ],
      "metadata": {
        "id": "bVPoZg668z3T"
      },
      "execution_count": 165,
      "outputs": []
    },
    {
      "cell_type": "code",
      "source": [
        "lista"
      ],
      "metadata": {
        "id": "Jo_PBQ0g8z7D",
        "colab": {
          "base_uri": "https://localhost:8080/"
        },
        "outputId": "f5a3d979-7749-4faa-bd0b-8555699acc70"
      },
      "execution_count": 166,
      "outputs": [
        {
          "output_type": "execute_result",
          "data": {
            "text/plain": [
              "['Penélope Camacho', 9.5, 10.0, 9.7, True]"
            ]
          },
          "metadata": {},
          "execution_count": 166
        }
      ]
    },
    {
      "cell_type": "markdown",
      "source": [
        "También podemos calcular el promedio del estudiante a partir de los datos que tenemos."
      ],
      "metadata": {
        "id": "53XduzXkycAf"
      }
    },
    {
      "cell_type": "code",
      "source": [
        "promedio = (lista[1] + lista[2] + lista[3]) / 3\n",
        "promedio"
      ],
      "metadata": {
        "colab": {
          "base_uri": "https://localhost:8080/"
        },
        "id": "2Z-oVAZVmbah",
        "outputId": "82a0814c-4847-43fb-d564-4a0c5b8af708"
      },
      "execution_count": 167,
      "outputs": [
        {
          "output_type": "execute_result",
          "data": {
            "text/plain": [
              "9.733333333333333"
            ]
          },
          "metadata": {},
          "execution_count": 167
        }
      ]
    },
    {
      "cell_type": "markdown",
      "source": [
        "## Manipulación de listas\n",
        "\n",
        "Las listas son muy útiles en Python porque nos permiten almacenar y acceder a una colección de items de manera organizada y rápida. Estas también ofrecen muchos métodos útiles para manipular los itens almacenados, como adicionar, remover, clasificar y buscar elementos."
      ],
      "metadata": {
        "id": "d-iYr10-y4qw"
      }
    },
    {
      "cell_type": "markdown",
      "source": [
        "#### Cantidad de elementos\n",
        "\n",
        "Usamos la función [`len()`](https://docs.python.org/3/library/functions.html#len) para descubrir la cantidad de elementos de un conjunto."
      ],
      "metadata": {
        "id": "ZLqx9A97XVB_"
      }
    },
    {
      "cell_type": "code",
      "source": [
        "len(lista)"
      ],
      "metadata": {
        "id": "6q1Tmm7P8wQf",
        "colab": {
          "base_uri": "https://localhost:8080/"
        },
        "outputId": "e1c5f012-b589-45c3-a1a6-ffcd50e7d890"
      },
      "execution_count": 168,
      "outputs": [
        {
          "output_type": "execute_result",
          "data": {
            "text/plain": [
              "5"
            ]
          },
          "metadata": {},
          "execution_count": 168
        }
      ]
    },
    {
      "cell_type": "markdown",
      "source": [
        "#### Partición\n",
        "\n",
        "La partición de listas por indexación en Python es una técnica muy útil para seleccionar un subconjunto de elementos de una lista. Esta se realiza usando la sintaxis `lista[inicio:fin]`, donde `inicio` es el índice del primer elemento que será incluído en la partición `fin` es el índice del primer elemento que será excluído de la partición."
      ],
      "metadata": {
        "id": "Z5tpstlHJss3"
      }
    },
    {
      "cell_type": "code",
      "source": [
        "lista[0:2]"
      ],
      "metadata": {
        "id": "NctvJTTU8uV9",
        "colab": {
          "base_uri": "https://localhost:8080/"
        },
        "outputId": "8c307cc1-c310-46f8-fd12-21a99b58e693"
      },
      "execution_count": 169,
      "outputs": [
        {
          "output_type": "execute_result",
          "data": {
            "text/plain": [
              "['Penélope Camacho', 9.5]"
            ]
          },
          "metadata": {},
          "execution_count": 169
        }
      ]
    },
    {
      "cell_type": "code",
      "source": [
        "lista[:3]"
      ],
      "metadata": {
        "id": "bQZUwldj8uY2",
        "colab": {
          "base_uri": "https://localhost:8080/"
        },
        "outputId": "305443d2-e733-4422-c49e-8da86831e7e7"
      },
      "execution_count": 170,
      "outputs": [
        {
          "output_type": "execute_result",
          "data": {
            "text/plain": [
              "['Penélope Camacho', 9.5, 10.0]"
            ]
          },
          "metadata": {},
          "execution_count": 170
        }
      ]
    },
    {
      "cell_type": "code",
      "source": [
        "lista[3:]"
      ],
      "metadata": {
        "colab": {
          "base_uri": "https://localhost:8080/"
        },
        "id": "SK2NApmNpt1d",
        "outputId": "fa140be2-61d7-4c67-97cd-c0dd8ae7636c"
      },
      "execution_count": 171,
      "outputs": [
        {
          "output_type": "execute_result",
          "data": {
            "text/plain": [
              "[9.7, True]"
            ]
          },
          "metadata": {},
          "execution_count": 171
        }
      ]
    },
    {
      "cell_type": "code",
      "source": [
        "lista[:]"
      ],
      "metadata": {
        "colab": {
          "base_uri": "https://localhost:8080/"
        },
        "id": "klU0H_qFpyyd",
        "outputId": "09797b02-cdad-4878-932f-80c39def2c08"
      },
      "execution_count": 172,
      "outputs": [
        {
          "output_type": "execute_result",
          "data": {
            "text/plain": [
              "['Penélope Camacho', 9.5, 10.0, 9.7, True]"
            ]
          },
          "metadata": {},
          "execution_count": 172
        }
      ]
    },
    {
      "cell_type": "markdown",
      "source": [
        "#### [`append()`](https://docs.python.org/3/tutorial/datastructures.html#:~:text=of%20list%20objects%3A-,list.append(x),-Add%20an%20item)\n",
        "\n",
        "Añade un elemento al final de la lista."
      ],
      "metadata": {
        "id": "O0RRyabkRzZC"
      }
    },
    {
      "cell_type": "code",
      "source": [
        "lista.append(promedio)"
      ],
      "metadata": {
        "id": "E3htO5s9ptJU"
      },
      "execution_count": 173,
      "outputs": []
    },
    {
      "cell_type": "code",
      "source": [
        "lista"
      ],
      "metadata": {
        "id": "_Q0oODwa8spC",
        "colab": {
          "base_uri": "https://localhost:8080/"
        },
        "outputId": "8d194cc1-139f-488f-e027-7d86d9a7429f"
      },
      "execution_count": 174,
      "outputs": [
        {
          "output_type": "execute_result",
          "data": {
            "text/plain": [
              "['Penélope Camacho', 9.5, 10.0, 9.7, True, 9.733333333333333]"
            ]
          },
          "metadata": {},
          "execution_count": 174
        }
      ]
    },
    {
      "cell_type": "markdown",
      "source": [
        "#### [`extend()`](https://docs.python.org/3/tutorial/datastructures.html#:~:text=list.extend(iterable))\n",
        "\n",
        "Añade varios elementos al final de la lista.\n",
        "\n",
        "Añadiremos las notas `[10.0,8.0,9.0]` En la lista de Penélope Camacho."
      ],
      "metadata": {
        "id": "uQV91XMsUOJD"
      }
    },
    {
      "cell_type": "code",
      "source": [
        "lista.extend([10.0,8.0,9.0])"
      ],
      "metadata": {
        "id": "6Zk2MpMw8rQc"
      },
      "execution_count": 177,
      "outputs": []
    },
    {
      "cell_type": "code",
      "source": [
        "lista"
      ],
      "metadata": {
        "id": "NnoKkoWb8rTQ",
        "colab": {
          "base_uri": "https://localhost:8080/"
        },
        "outputId": "6eefe71c-6e46-4574-8906-6bac0689cee7"
      },
      "execution_count": 176,
      "outputs": [
        {
          "output_type": "execute_result",
          "data": {
            "text/plain": [
              "['Penélope Camacho', 9.5, 10.0, 9.7, True, 9.733333333333333, 10.0, 8.0, 9.0]"
            ]
          },
          "metadata": {},
          "execution_count": 176
        }
      ]
    },
    {
      "cell_type": "markdown",
      "source": [
        "*A continuación te mostraremos lo que no puede realizarse con* `append`."
      ],
      "metadata": {
        "id": "IVJvkTwNUk6M"
      }
    },
    {
      "cell_type": "code",
      "source": [
        "lista.append([10.0,8.0,9.0])"
      ],
      "metadata": {
        "id": "u3Eub2ZL8pp3"
      },
      "execution_count": 178,
      "outputs": []
    },
    {
      "cell_type": "code",
      "source": [
        "lista"
      ],
      "metadata": {
        "id": "tsKK5Ne58pvN",
        "colab": {
          "base_uri": "https://localhost:8080/"
        },
        "outputId": "93d5e5d1-45c0-4297-b892-e7554ad28d9b"
      },
      "execution_count": 179,
      "outputs": [
        {
          "output_type": "execute_result",
          "data": {
            "text/plain": [
              "['Penélope Camacho',\n",
              " 9.5,\n",
              " 10.0,\n",
              " 9.7,\n",
              " True,\n",
              " 9.733333333333333,\n",
              " 10.0,\n",
              " 8.0,\n",
              " 9.0,\n",
              " 10.0,\n",
              " 8.0,\n",
              " 9.0,\n",
              " [10.0, 8.0, 9.0]]"
            ]
          },
          "metadata": {},
          "execution_count": 179
        }
      ]
    },
    {
      "cell_type": "markdown",
      "source": [
        "#### [`remove()`](https://docs.python.org/3/tutorial/datastructures.html#:~:text=append(x).-,list.remove(x),-Remove%20the%20first)\n",
        "\n",
        "Remueve un elemento específico de la lista."
      ],
      "metadata": {
        "id": "dPGM5gpyUX1z"
      }
    },
    {
      "cell_type": "code",
      "source": [
        "lista.remove([10.0, 8.0, 9.0])"
      ],
      "metadata": {
        "id": "mmboODPc8nd5"
      },
      "execution_count": 180,
      "outputs": []
    },
    {
      "cell_type": "code",
      "source": [
        "lista"
      ],
      "metadata": {
        "id": "T_w6vVgV8nh_",
        "colab": {
          "base_uri": "https://localhost:8080/"
        },
        "outputId": "9ceee0d6-f67e-4d42-b4e0-f61eab4324aa"
      },
      "execution_count": 181,
      "outputs": [
        {
          "output_type": "execute_result",
          "data": {
            "text/plain": [
              "['Penélope Camacho',\n",
              " 9.5,\n",
              " 10.0,\n",
              " 9.7,\n",
              " True,\n",
              " 9.733333333333333,\n",
              " 10.0,\n",
              " 8.0,\n",
              " 9.0,\n",
              " 10.0,\n",
              " 8.0,\n",
              " 9.0]"
            ]
          },
          "metadata": {},
          "execution_count": 181
        }
      ]
    },
    {
      "cell_type": "markdown",
      "source": [
        "## Diccionario"
      ],
      "metadata": {
        "id": "Rc22Vc08YDZ2"
      }
    },
    {
      "cell_type": "markdown",
      "source": [
        "Los diccionarios son un tipo de estructura de datos que almacenan pares de *llave-valor*. Estos son delimitados por llaves `{}` y los pares *llave-valor* son separados por comas.\n",
        "\n",
        "```\n",
        "diccionario = {llave: valor}\n",
        "```\n",
        "\n",
        "La **llave** es un elemento único que identifica a un valor en el diccionario, mientras que el **valor** es el item que será almacenado para la llave. Las llaves y sus respectivos valores se pueden emplear para **cualquier tipo de dato**.\n",
        "\n",
        "Los diccionarios son útiles para almacenar y acceder a los datos de manera organizada y rápida. Se trata de un tipo de conjunto de elementos en Python, pues almacenan una colección de items."
      ],
      "metadata": {
        "id": "PJ-cCKPjeWxL"
      }
    },
    {
      "cell_type": "code",
      "source": [
        "diccionario = {'llave_1':1,\n",
        "               'llave_2':2}\n",
        "diccionario"
      ],
      "metadata": {
        "id": "NDHhzooE8ld5",
        "colab": {
          "base_uri": "https://localhost:8080/"
        },
        "outputId": "5d2ee009-45d3-49dd-a425-fee12f7a82f0"
      },
      "execution_count": 182,
      "outputs": [
        {
          "output_type": "execute_result",
          "data": {
            "text/plain": [
              "{'llave_1': 1, 'llave_2': 2}"
            ]
          },
          "metadata": {},
          "execution_count": 182
        }
      ]
    },
    {
      "cell_type": "code",
      "source": [
        "type(diccionario)"
      ],
      "metadata": {
        "colab": {
          "base_uri": "https://localhost:8080/"
        },
        "id": "cEXOWt-zvTx8",
        "outputId": "01b7c552-0d2b-471f-c034-d22cd8b5d248"
      },
      "execution_count": 183,
      "outputs": [
        {
          "output_type": "execute_result",
          "data": {
            "text/plain": [
              "dict"
            ]
          },
          "metadata": {},
          "execution_count": 183
        }
      ]
    },
    {
      "cell_type": "markdown",
      "source": [
        "---\n",
        "**Situación:**\n",
        "\n",
        "Vamos a crear un conjunto de datos con las informaciones de matrícula de un estudiante. Los datos son los siguientes:\n",
        "\n",
        "- matrícula: 2000168933\n",
        "- día de registro: 25\n",
        "- mes de registro: 10\n",
        "- grupo: 2E"
      ],
      "metadata": {
        "id": "_JbQ3KMKfkXU"
      }
    },
    {
      "cell_type": "code",
      "source": [
        "estudiante = {'matricula':2000168933,\n",
        "              'dia':25,\n",
        "              'mes':10,\n",
        "              'grupo':'2E'}\n",
        "estudiante"
      ],
      "metadata": {
        "id": "0lfOu_c38jED",
        "colab": {
          "base_uri": "https://localhost:8080/"
        },
        "outputId": "2d697c57-a21e-4f85-fc09-1acdfa6d0f2c"
      },
      "execution_count": 184,
      "outputs": [
        {
          "output_type": "execute_result",
          "data": {
            "text/plain": [
              "{'matricula': 2000168933, 'dia': 25, 'mes': 10, 'grupo': '2E'}"
            ]
          },
          "metadata": {},
          "execution_count": 184
        }
      ]
    },
    {
      "cell_type": "code",
      "source": [
        "estudiante['matricula']"
      ],
      "metadata": {
        "id": "XIuqpTTy8jHV",
        "colab": {
          "base_uri": "https://localhost:8080/"
        },
        "outputId": "8cb184d4-0a67-4b9d-fab6-05e8d1cd5020"
      },
      "execution_count": 185,
      "outputs": [
        {
          "output_type": "execute_result",
          "data": {
            "text/plain": [
              "2000168933"
            ]
          },
          "metadata": {},
          "execution_count": 185
        }
      ]
    },
    {
      "cell_type": "code",
      "source": [
        "estudiante['grupo']"
      ],
      "metadata": {
        "colab": {
          "base_uri": "https://localhost:8080/",
          "height": 35
        },
        "id": "n9uQ_vt5wD4f",
        "outputId": "9964d268-4061-4b4a-fff8-b9f4a5c01d71"
      },
      "execution_count": 186,
      "outputs": [
        {
          "output_type": "execute_result",
          "data": {
            "text/plain": [
              "'2E'"
            ],
            "application/vnd.google.colaboratory.intrinsic+json": {
              "type": "string"
            }
          },
          "metadata": {},
          "execution_count": 186
        }
      ]
    },
    {
      "cell_type": "markdown",
      "source": [
        "Es posible sustituir los valores dentro de una llave. Por ejemplo, recibimos la información de que el grupo del estudiante que registramos cambio a `'2G'` y ahora necesitamos cambiar el valor de la llave `'grupo'`."
      ],
      "metadata": {
        "id": "8ex5pt2ykDd2"
      }
    },
    {
      "cell_type": "code",
      "source": [
        "estudiante['grupo'] = '2G'"
      ],
      "metadata": {
        "id": "kQGlp36b8fyP"
      },
      "execution_count": 187,
      "outputs": []
    },
    {
      "cell_type": "code",
      "source": [
        "estudiante"
      ],
      "metadata": {
        "id": "DnfH_qHi8f17",
        "colab": {
          "base_uri": "https://localhost:8080/"
        },
        "outputId": "c46eec2a-9982-4d19-e801-b635f3a35940"
      },
      "execution_count": 188,
      "outputs": [
        {
          "output_type": "execute_result",
          "data": {
            "text/plain": [
              "{'matricula': 2000168933, 'dia': 25, 'mes': 10, 'grupo': '2G'}"
            ]
          },
          "metadata": {},
          "execution_count": 188
        }
      ]
    },
    {
      "cell_type": "markdown",
      "source": [
        "También podemos añadir otros datos al diccionario. Vamos a añadir la información sobre la modalidad de estudio, nuestro estudiante estudiará inicialemente en la modalidad EAD.\n",
        "\n",
        "Definiremos una llave llamada `'modalidad'` con el valor `'EAD'`."
      ],
      "metadata": {
        "id": "wB0qRb56mQvv"
      }
    },
    {
      "cell_type": "code",
      "source": [
        "estudiante['modalidad'] =  'EAD'"
      ],
      "metadata": {
        "id": "EeLYdlIm8d8a"
      },
      "execution_count": 190,
      "outputs": []
    },
    {
      "cell_type": "code",
      "source": [
        "estudiante"
      ],
      "metadata": {
        "id": "olDIavsm8d_o",
        "colab": {
          "base_uri": "https://localhost:8080/"
        },
        "outputId": "62d21be9-76ee-4494-d3c9-c7ada170debe"
      },
      "execution_count": 191,
      "outputs": [
        {
          "output_type": "execute_result",
          "data": {
            "text/plain": [
              "{'matricula': 2000168933,\n",
              " 'dia': 25,\n",
              " 'mes': 10,\n",
              " 'grupo': '2G',\n",
              " 'modalidad': 'EAD'}"
            ]
          },
          "metadata": {},
          "execution_count": 191
        }
      ]
    },
    {
      "cell_type": "code",
      "source": [
        "len(estudiante)"
      ],
      "metadata": {
        "colab": {
          "base_uri": "https://localhost:8080/"
        },
        "id": "iOT6dpDywi-_",
        "outputId": "912830d2-2c99-4138-8dce-8ba4c06d355b"
      },
      "execution_count": 193,
      "outputs": [
        {
          "output_type": "execute_result",
          "data": {
            "text/plain": [
              "5"
            ]
          },
          "metadata": {},
          "execution_count": 193
        }
      ]
    },
    {
      "cell_type": "markdown",
      "source": [
        "## Profundizando en diccionarios"
      ],
      "metadata": {
        "id": "LJ3o_inroxg_"
      }
    },
    {
      "cell_type": "markdown",
      "source": [
        "#### [`pop()`](https://python-reference.readthedocs.io/en/latest/docs/dict/pop.html)\n",
        "Remueve un item de un diccionario y lo representa en la salida."
      ],
      "metadata": {
        "id": "2N3GLlkSpBiu"
      }
    },
    {
      "cell_type": "code",
      "source": [
        "estudiante.pop('grupo')"
      ],
      "metadata": {
        "id": "ZsSCZx6G8b-T",
        "colab": {
          "base_uri": "https://localhost:8080/",
          "height": 35
        },
        "outputId": "a69993f7-b245-4ce6-8161-c4e333e9aee0"
      },
      "execution_count": 194,
      "outputs": [
        {
          "output_type": "execute_result",
          "data": {
            "text/plain": [
              "'2G'"
            ],
            "application/vnd.google.colaboratory.intrinsic+json": {
              "type": "string"
            }
          },
          "metadata": {},
          "execution_count": 194
        }
      ]
    },
    {
      "cell_type": "code",
      "source": [
        "estudiante"
      ],
      "metadata": {
        "id": "7lQ8_jpi8cBR",
        "colab": {
          "base_uri": "https://localhost:8080/"
        },
        "outputId": "092dff55-6cc8-449f-921e-ee11fdd91588"
      },
      "execution_count": 195,
      "outputs": [
        {
          "output_type": "execute_result",
          "data": {
            "text/plain": [
              "{'matricula': 2000168933, 'dia': 25, 'mes': 10, 'modalidad': 'EAD'}"
            ]
          },
          "metadata": {},
          "execution_count": 195
        }
      ]
    },
    {
      "cell_type": "markdown",
      "source": [
        "#### [`items()`](https://python-reference.readthedocs.io/en/latest/docs/dict/items.html)\n",
        "Retorna una lista de pares `llave-valor` del diccionario."
      ],
      "metadata": {
        "id": "sYZGvJJYrW_y"
      }
    },
    {
      "cell_type": "code",
      "source": [
        "estudiante.items()"
      ],
      "metadata": {
        "id": "ncdycLV08an7",
        "colab": {
          "base_uri": "https://localhost:8080/"
        },
        "outputId": "f0bb95a4-7e2d-4fe6-b9e2-5395f03e9ab0"
      },
      "execution_count": 196,
      "outputs": [
        {
          "output_type": "execute_result",
          "data": {
            "text/plain": [
              "dict_items([('matricula', 2000168933), ('dia', 25), ('mes', 10), ('modalidad', 'EAD')])"
            ]
          },
          "metadata": {},
          "execution_count": 196
        }
      ]
    },
    {
      "cell_type": "markdown",
      "source": [
        "#### [`keys()`](https://python-reference.readthedocs.io/en/latest/docs/dict/keys.html)\n",
        "Retorna una lista de las llaves del diccionario."
      ],
      "metadata": {
        "id": "Lb0utNFGrZBY"
      }
    },
    {
      "cell_type": "code",
      "source": [
        "estudiante.keys()"
      ],
      "metadata": {
        "id": "eZo0biaM8ZVs",
        "colab": {
          "base_uri": "https://localhost:8080/"
        },
        "outputId": "6b69963b-73ef-4b75-c5fc-4cb29433816f"
      },
      "execution_count": 197,
      "outputs": [
        {
          "output_type": "execute_result",
          "data": {
            "text/plain": [
              "dict_keys(['matricula', 'dia', 'mes', 'modalidad'])"
            ]
          },
          "metadata": {},
          "execution_count": 197
        }
      ]
    },
    {
      "cell_type": "markdown",
      "source": [
        "#### [`values()`](https://python-reference.readthedocs.io/en/latest/docs/dict/values.html)\n",
        "Retorna una lista de los valores del diccionario."
      ],
      "metadata": {
        "id": "qKyu3bf9rbtX"
      }
    },
    {
      "cell_type": "code",
      "source": [
        "estudiante.values()"
      ],
      "metadata": {
        "id": "-NxRT9C18Yvo",
        "colab": {
          "base_uri": "https://localhost:8080/"
        },
        "outputId": "a21fd6e4-2d32-4b9e-bf29-c67d70f7c996"
      },
      "execution_count": 198,
      "outputs": [
        {
          "output_type": "execute_result",
          "data": {
            "text/plain": [
              "dict_values([2000168933, 25, 10, 'EAD'])"
            ]
          },
          "metadata": {},
          "execution_count": 198
        }
      ]
    },
    {
      "cell_type": "markdown",
      "source": [
        "### Lectura de valores con el lazo `for`"
      ],
      "metadata": {
        "id": "e3XVjR8Frp75"
      }
    },
    {
      "cell_type": "code",
      "source": [
        "for llave in estudiante.keys():\n",
        "  print(llave)"
      ],
      "metadata": {
        "id": "NYcjU-Ip8Xan",
        "colab": {
          "base_uri": "https://localhost:8080/"
        },
        "outputId": "5064e3d3-eac0-4ec8-f88b-6d8da0f88bd9"
      },
      "execution_count": 199,
      "outputs": [
        {
          "output_type": "stream",
          "name": "stdout",
          "text": [
            "matricula\n",
            "dia\n",
            "mes\n",
            "modalidad\n"
          ]
        }
      ]
    },
    {
      "cell_type": "code",
      "source": [
        "for llave,valor in estudiante.items():\n",
        "  print(llave, '-->', valor)"
      ],
      "metadata": {
        "id": "aAnpP1Wv8XfJ",
        "colab": {
          "base_uri": "https://localhost:8080/"
        },
        "outputId": "8eea32f7-d970-461e-ee16-f8c2610e971b"
      },
      "execution_count": 200,
      "outputs": [
        {
          "output_type": "stream",
          "name": "stdout",
          "text": [
            "matricula --> 2000168933\n",
            "dia --> 25\n",
            "mes --> 10\n",
            "modalidad --> EAD\n"
          ]
        }
      ]
    },
    {
      "cell_type": "markdown",
      "source": [
        "# **Desafío**: ¡Es hora de practicar!"
      ],
      "metadata": {
        "id": "_oEgpSXGI_Ov"
      }
    },
    {
      "cell_type": "markdown",
      "source": [
        "## Entrenando la programación\n",
        "\n",
        "1 - Crea un programa que tenga la siguiente lista con los gastos de una empresa de papel [2172.54, 3701.35, 3518.09, 3456.61, 3249.38, 2840.82, 3891.45, 3075.26, 2317.64, 3219.08]. Con estos valores, crea un programa que calcule el promedio de gastos. Sugerencia: usa las funciones integradas sum() y len().\n",
        "\n",
        "2 - Con los mismos datos de la pregunta anterior, determina cuántas compras se realizaron por encima de 3000 reales y calcula el porcentaje con respecto al total de compras.\n",
        "\n",
        "3 - Crea un código que recoja en una lista 5 números enteros aleatorios e imprima la lista. Ejemplo: [1, 4, 7, 2, 4].\n",
        "\n",
        "4 - Recoge nuevamente 5 números enteros e imprime la lista en orden inverso al enviado.\n",
        "\n",
        "5 - Crea un programa que, al ingresar un número cualquiera, genere una lista que contenga todos los números primos entre 1 y el número ingresado.\n",
        "\n",
        "6 - Escribe un programa que pida una fecha, especificando el día, mes y año, y determine si es válida para su análisis."
      ],
      "metadata": {
        "id": "hn5e4dRtJCfy"
      }
    },
    {
      "cell_type": "code",
      "source": [
        "lista_gastos = [2172.54, 3701.35, 3518.09, 3456.61, 3249.38, 2840.82, 3891.45, 3075.26, 2317.64, 3219.08]\n",
        "print(f'El promedio de gastos es de:', sum(lista_gastos)/len(lista_gastos))"
      ],
      "metadata": {
        "id": "pyrTRX8SJNpO",
        "outputId": "ee7003c2-f670-47ab-bb4d-aba29c8f8035",
        "colab": {
          "base_uri": "https://localhost:8080/"
        }
      },
      "execution_count": 2,
      "outputs": [
        {
          "output_type": "stream",
          "name": "stdout",
          "text": [
            "El promedio de gastos es de: 3144.222\n"
          ]
        }
      ]
    },
    {
      "cell_type": "code",
      "source": [
        "lista_gastos = [2172.54, 3701.35, 3518.09, 3456.61, 3249.38, 2840.82, 3891.45, 3075.26, 2317.64, 3219.08]\n",
        "\n",
        "# Contar cuántas compras fueron mayores a 3000\n",
        "compras_mayores_3000 = sum(1 for gasto in lista_gastos if gasto > 3000)\n",
        "\n",
        "# Calcular porcentaje\n",
        "total_compras = len(lista_gastos)\n",
        "porcentaje = (compras_mayores_3000 / total_compras) * 100\n",
        "\n",
        "# Mostrar resultados\n",
        "print(f'Número de compras por encima de 3000 reales: {compras_mayores_3000}')\n",
        "print(f'Porcentaje respecto al total de compras: {porcentaje:.2f}%')\n"
      ],
      "metadata": {
        "id": "2lefEUx_JODz",
        "outputId": "483aee06-629f-4ca1-c60b-8fc5b780d48e",
        "colab": {
          "base_uri": "https://localhost:8080/"
        }
      },
      "execution_count": 3,
      "outputs": [
        {
          "output_type": "stream",
          "name": "stdout",
          "text": [
            "Número de compras por encima de 3000 reales: 7\n",
            "Porcentaje respecto al total de compras: 70.00%\n"
          ]
        }
      ]
    },
    {
      "cell_type": "code",
      "source": [
        "# Lista que almacenará los 5 números enteros\n",
        "lista_numeros = []\n",
        "\n",
        "# Creamos un bucle que iterará 5 veces para recibir los 5 números\n",
        "for i in range(0, 5):\n",
        "  # Recopilamos el valor e lo insertamos en la lista 5 veces\n",
        "  numero = int(input('Ingresa un número entero: '))\n",
        "  lista_numeros.append(numero)\n",
        "#Resultado\n",
        "print(f'Lista de números ingresados: {lista_numeros}')"
      ],
      "metadata": {
        "id": "7en2A-YpJOM3",
        "outputId": "aa991742-283f-4d69-c700-08ec914d5d2f",
        "colab": {
          "base_uri": "https://localhost:8080/"
        }
      },
      "execution_count": 4,
      "outputs": [
        {
          "output_type": "stream",
          "name": "stdout",
          "text": [
            "Ingresa un número entero: 4\n",
            "Ingresa un número entero: 2\n",
            "Ingresa un número entero: 5\n",
            "Ingresa un número entero: 6\n",
            "Ingresa un número entero: 7\n",
            "Lista de números ingresados: [4, 2, 5, 6, 7]\n"
          ]
        }
      ]
    },
    {
      "cell_type": "code",
      "source": [
        "# Lista que almacenará los 5 números enteros\n",
        "lista_numeros = []\n",
        "\n",
        "# Creamos un bucle que iterará 5 veces para recibir los 5 números\n",
        "for i in range(0, 5):\n",
        "  # Recopilamos el valor e lo insertamos en la lista 5 veces\n",
        "  numero = int(input('Ingresa un número entero: '))\n",
        "  lista_numeros.append(numero)\n",
        "# Usamos la técnica de partición para imprimir el resultado\n",
        "print(f'Lista de números invertida: {lista_numeros[::-1]}')"
      ],
      "metadata": {
        "id": "jlbYNbtPJOT9",
        "outputId": "d4870c6f-d37b-4bf7-c97f-289917f24262",
        "colab": {
          "base_uri": "https://localhost:8080/"
        }
      },
      "execution_count": 5,
      "outputs": [
        {
          "output_type": "stream",
          "name": "stdout",
          "text": [
            "Ingresa un número entero: 4\n",
            "Ingresa un número entero: 2\n",
            "Ingresa un número entero: 5\n",
            "Ingresa un número entero: 6\n",
            "Ingresa un número entero: 7\n",
            "Lista de números invertida: [7, 6, 5, 2, 4]\n"
          ]
        }
      ]
    },
    {
      "cell_type": "code",
      "source": [
        "# Pedir un número al usuario\n",
        "limite = int(input(\"Ingrese un número: \"))\n",
        "\n",
        "# Lista para almacenar los números primos\n",
        "primos = []\n",
        "\n",
        "# Recorrer los números desde 2 hasta el límite ingresado\n",
        "for num in range(2, limite + 1):\n",
        "    es_primo = True  # Suponemos que el número es primo\n",
        "\n",
        "    # Verificamos si tiene divisores (excepto 1 y él mismo)\n",
        "    for i in range(2, int(num ** 0.5) + 1):\n",
        "        if num % i == 0:\n",
        "            es_primo = False\n",
        "            break  # Si encontramos un divisor, salimos del bucle\n",
        "\n",
        "    if es_primo:\n",
        "        primos.append(num)  # Si sigue siendo primo, lo agregamos a la lista\n",
        "\n",
        "# Mostrar la lista de números primos\n",
        "print(\"Lista de números primos:\", primos)\n"
      ],
      "metadata": {
        "id": "4dKFaPaKJOcT",
        "outputId": "32767433-aaae-49f5-d9a4-39132c124c45",
        "colab": {
          "base_uri": "https://localhost:8080/"
        }
      },
      "execution_count": 6,
      "outputs": [
        {
          "output_type": "stream",
          "name": "stdout",
          "text": [
            "Ingrese un número: 4\n",
            "Lista de números primos: [2, 3]\n"
          ]
        }
      ]
    },
    {
      "cell_type": "code",
      "source": [
        "# Recopilamos la fecha\n",
        "dia = int(input('Ingrese el día: '))\n",
        "mes = int(input('Ingrese el mes: '))\n",
        "año = int(input('Ingrese el año: '))\n",
        "\n",
        "# Análisis de febrero\n",
        "if mes == 2:\n",
        "  # Verificamos si es o no un año bisiesto\n",
        "  if año % 4 == 0 and (año % 400 == 0 or año % 100 != 0):\n",
        "    dias_febrero = 29\n",
        "  else:\n",
        "    dias_febrero = 28\n",
        "  # Verificamos si el día ingresado coincide con el máximo de días de febrero\n",
        "  if dia >= 1 and dia <= dias_febrero:\n",
        "    print('Fecha válida')\n",
        "  else:\n",
        "    print('Fecha inválida')\n",
        "# Verificamos meses que terminan en 31 días\n",
        "elif mes in [1, 3, 5, 7, 8, 10, 12]:\n",
        "  if dia >= 1 and dia <= 31:\n",
        "    print('Fecha válida')\n",
        "  else:\n",
        "    print('Fecha inválida')\n",
        "# Verificamos meses que terminan en 30 días\n",
        "elif mes in [4, 6, 9, 11]:\n",
        "  if dia >= 1 and dia <= 30:\n",
        "    print('Fecha válida')\n",
        "  else:\n",
        "    print('Fecha inválida')\n",
        "# Si el mes no está entre 1 y 12\n",
        "else:\n",
        "  print('Fecha inválida')"
      ],
      "metadata": {
        "id": "SO3v6bB2JOk2",
        "outputId": "ce36b8dd-05fc-4fbc-b7fa-e4da87c7eb17",
        "colab": {
          "base_uri": "https://localhost:8080/"
        }
      },
      "execution_count": 10,
      "outputs": [
        {
          "output_type": "stream",
          "name": "stdout",
          "text": [
            "Ingrese el día: 31\n",
            "Ingrese el mes: 31\n",
            "Ingrese el año: 3131\n",
            "Fecha inválida\n"
          ]
        }
      ]
    },
    {
      "cell_type": "markdown",
      "source": [
        "# Momento para los proyectos\n",
        "\n",
        "7 - Para un estudio sobre la multiplicación de bacterias en una colonia, se recopiló el número de bacterias multiplicadas por día y se puede observar a continuación: [1.2, 2.1, 3.3, 5.0, 7.8, 11.3, 16.6, 25.1, 37.8, 56.9]. Con estos valores, crea un código que genere una lista que contenga el porcentaje de crecimiento de bacterias por día, comparando el número de bacterias en cada día con el número de bacterias del día anterior.\n",
        "\n",
        "Sugerencia: para calcular el porcentaje de crecimiento, utiliza la siguiente ecuación: 100 * (muestra_actual - muestra_anterior) / muestra_anterior.\n",
        "\n",
        "8 - Para una selección de productos alimenticios, debemos separar el conjunto de IDs proporcionados por números enteros, sabiendo que los productos con ID par son dulces y los que tienen ID impar son amargos. Crea un código que recoja 10 IDs. Luego, calcula y muestra la cantidad de productos dulces y amargos.\n",
        "\n",
        "9 - Desarrolla un programa que informe la puntuación de un estudiante de acuerdo con sus respuestas. Debe pedir la respuesta del estudiante para cada pregunta y verificar si la respuesta coincide con el resultado. Cada pregunta vale un punto y hay opciones A, B, C o D.\n",
        "\n",
        "Resultado del examen:\n",
        "01 - D\n",
        "02 - A\n",
        "03 - C\n",
        "04 - B\n",
        "05 - A\n",
        "06 - D\n",
        "07 - C\n",
        "08 - C\n",
        "09 - A\n",
        "10 - B\n",
        "\n",
        "10 - Un instituto de meteorología desea realizar un estudio de la temperatura media de cada mes del año. Para ello, debes crear un código que recoja y almacene esas temperaturas medias en una lista. Luego, calcula el promedio anual de las temperaturas y muestra todas las temperaturas por encima del promedio anual y en qué mes ocurrieron, mostrando los meses por su nombre (Enero, Febrero, etc.).\n",
        "\n",
        "11 - Una empresa de comercio electrónico está interesada en analizar las ventas de sus productos. Los datos de ventas se han almacenado en un diccionario:\n",
        "\n",
        "{'Producto A': 300, 'Producto B': 80, 'Producto C': 60, 'Producto D': 200, 'Producto E': 250, 'Producto F': 30}\n",
        "\n",
        "Escribe un código que calcule el total de ventas y el producto más vendido.\n",
        "\n",
        "12 - Se realizó una encuesta de mercado para decidir cuál diseño de marca infantil es más atractivo para los niños. Los votos de la encuesta se pueden ver a continuación:\n",
        "\n",
        "Tabla de votos de la marca\n",
        "Diseño 1 - 1334 votos\n",
        "Diseño 2 - 982 votos\n",
        "Diseño 3 - 1751 votos\n",
        "Diseño 4 - 210 votos\n",
        "Diseño 5 - 1811 votos\n",
        "\n",
        "Adapta los datos proporcionados a una estructura de diccionario. A partir de ello, informa el diseño ganador y el porcentaje de votos recibidos.\n",
        "\n",
        "13 - Los empleados de un departamento de tu empresa recibirán una bonificación del 10% de su salario debido a un excelente rendimiento del equipo. El departamento de finanzas ha solicitado tu ayuda para verificar las consecuencias financieras de esta bonificación en los recursos. Se te ha enviado una lista con los salarios que recibirán la bonificación: [1172, 1644, 2617, 5130, 5532, 6341, 6650, 7238, 7685, 7782, 7903]. La bonificación de cada empleado no puede ser inferior a 200. En el código, convierte cada uno de los salarios en claves de un diccionario y la bonificación de cada salario en el valor correspondiente. Luego, informa el gasto total en bonificaciones, cuántos empleados recibieron la bonificación mínima y cuál fue el valor más alto de la bonificación proporcionada.\n",
        "\n",
        "14 - Un equipo de científicos de datos está estudiando la diversidad biológica en un bosque. El equipo recopiló información sobre el número de especies de plantas y animales en cada área del bosque y almacenó estos datos en un diccionario. En él, la clave describe el área de los datos y los valores en las listas corresponden a las especies de plantas y animales en esas áreas, respectivamente.\n",
        "\n",
        "{'Área Norte': [2819, 7236], 'Área Leste': [1440, 9492], 'Área Sul': [5969, 7496], 'Área Oeste': [14446, 49688], 'Área Centro': [22558, 45148]}\n",
        "\n",
        "Escribe un código para calcular el promedio de especies por área e identificar el área con la mayor diversidad biológica. Sugerencia: utiliza las funciones incorporadas sum() y len().\n",
        "\n",
        "15 - El departamento de Recursos Humanos de tu empresa te pidió ayuda para analizar las edades de los colaboradores de 4 sectores de la empresa. Para ello, te proporcionaron los siguientes datos:\n",
        "\n",
        "{'Setor A': [22, 26, 30, 30, 35, 38, 40, 56, 57, 65],\n",
        " 'Setor B': [22, 24, 26, 33, 41, 49, 50, 54, 60, 64],\n",
        " 'Setor C': [23, 26, 26, 29, 34, 35, 36, 41, 52, 56],\n",
        " 'Setor D': [19, 20, 25, 27, 34, 39, 42, 44, 50, 65]}\n",
        "\n",
        "Dado que cada sector tiene 10 colaboradores, construye un código que calcule la media de edad de cada sector, la edad media general entre todos los sectores y cuántas personas están por encima de la edad media general."
      ],
      "metadata": {
        "id": "2ohbEVl8Rit3"
      }
    },
    {
      "cell_type": "code",
      "source": [
        "# Lista de crecimiento de bacterias\n",
        "bacterias_colonia = [1.2, 2.1, 3.3, 5.0, 7.8, 11.3, 16.6, 25.1, 37.8, 56.9]\n",
        "# Lista que almacenará las tasas de crecimiento\n",
        "porcentaje_crecimiento = []\n",
        "# Recorremos los índices de 1 a 9 para comparar los valores actuales con los anteriores\n",
        "for i in range(1, len(bacterias_colonia)):\n",
        "  # Realizamos el cálculo: 100 * (muestra_actual - muestra_anterior) / (muestra_anterior)\n",
        "  porcentaje = 100 * (bacterias_colonia[i] - bacterias_colonia[i-1]) / (bacterias_colonia[i-1])\n",
        "  # Agregamos el resultado a la lista porcentaje_crecimiento\n",
        "  porcentaje_crecimiento.append(porcentaje)\n",
        "# Resultado\n",
        "print(f'Porcentajes de crecimiento:\\n{porcentaje_crecimiento}')"
      ],
      "metadata": {
        "id": "CyYPK9eARo38",
        "outputId": "132624cf-6b8c-4694-d39f-e4b0d53ffaaa",
        "colab": {
          "base_uri": "https://localhost:8080/"
        }
      },
      "execution_count": 11,
      "outputs": [
        {
          "output_type": "stream",
          "name": "stdout",
          "text": [
            "Porcentajes de crecimiento:\n",
            "[75.00000000000001, 57.142857142857125, 51.51515151515153, 56.0, 44.87179487179489, 46.90265486725664, 51.20481927710843, 50.59760956175297, 50.52910052910054]\n"
          ]
        }
      ]
    },
    {
      "cell_type": "code",
      "source": [
        "# Lista que contendrá los valores de IDs\n",
        "ids = []\n",
        "# Variables contadoras de dulces y amargos\n",
        "dulce = 0\n",
        "amargo = 0\n",
        "\n",
        "# Creamos un bucle que iterará 10 veces para recopilar los 10 IDs\n",
        "for i in range(0,10):\n",
        "  # Recopilamos el ID y lo agregamos a la lista\n",
        "  ids.append(int(input(f'Ingrese el ID {i+1}°: ')))\n",
        "\n",
        "# Leemos todos los elementos de la lista de IDs y los asignamos a id\n",
        "for id in ids:\n",
        "  # Verificamos si los elementos son pares o impares para llevar el conteo\n",
        "  if id % 2 == 0:\n",
        "    dulce += 1\n",
        "  else:\n",
        "    amargo += 1\n",
        "\n",
        "# Resultado\n",
        "print(f'Cantidad de productos dulces: {dulce}')\n",
        "print(f'Cantidad de productos amargos: {amargo}')"
      ],
      "metadata": {
        "id": "UDvMw4_sRrxO",
        "outputId": "41fb0b45-4ad1-42b7-946a-b2b4512762d8",
        "colab": {
          "base_uri": "https://localhost:8080/"
        }
      },
      "execution_count": 13,
      "outputs": [
        {
          "output_type": "stream",
          "name": "stdout",
          "text": [
            "Ingrese el ID 1°: 20\n",
            "Ingrese el ID 2°: 30\n",
            "Ingrese el ID 3°: 10\n",
            "Ingrese el ID 4°: 50\n",
            "Ingrese el ID 5°: 40\n",
            "Ingrese el ID 6°: 90\n",
            "Ingrese el ID 7°: 70\n",
            "Ingrese el ID 8°: 20\n",
            "Ingrese el ID 9°: 45\n",
            "Ingrese el ID 10°: 78\n",
            "Cantidad de productos dulces: 9\n",
            "Cantidad de productos amargos: 1\n"
          ]
        }
      ]
    },
    {
      "cell_type": "code",
      "source": [
        "# Inicializamos los datos\n",
        "respuestas = []  # Lista para almacenar las respuestas\n",
        "# Lista de respuestas correctas\n",
        "gabarito = ['D', 'A', 'C', 'B', 'A', 'D', 'C', 'C', 'A', 'B']\n",
        "nota = 0  # Acumulará la nota total\n",
        "\n",
        "# Recopilamos las respuestas del estudiante\n",
        "for i in range(0, 10):\n",
        "  respuestas.append(input(f'Introduzca la respuesta a la pregunta {i + 1}: ').upper())\n",
        "\n",
        "# Verificamos si las respuestas coinciden y las sumamos a la nota\n",
        "for i in range(0, 10):\n",
        "  if respuestas[i] == gabarito[i]:\n",
        "    nota += 1\n",
        "\n",
        "# Mostrando la nota final\n",
        "print(f'Nota final: {nota}')"
      ],
      "metadata": {
        "id": "BkwvIpFcRsGl",
        "outputId": "738fe9c8-b00a-47e8-dcc5-885a4084ed0a",
        "colab": {
          "base_uri": "https://localhost:8080/"
        }
      },
      "execution_count": 14,
      "outputs": [
        {
          "output_type": "stream",
          "name": "stdout",
          "text": [
            "Introduzca la respuesta a la pregunta 1: Si\n",
            "Introduzca la respuesta a la pregunta 2: No\n",
            "Introduzca la respuesta a la pregunta 3: Quizas\n",
            "Introduzca la respuesta a la pregunta 4: No se\n",
            "Introduzca la respuesta a la pregunta 5: Cierto\n",
            "Introduzca la respuesta a la pregunta 6: Duda\n",
            "Introduzca la respuesta a la pregunta 7: Incierto\n",
            "Introduzca la respuesta a la pregunta 8: Afirmativo\n",
            "Introduzca la respuesta a la pregunta 9: Negativo\n",
            "Introduzca la respuesta a la pregunta 10: Incertidumbre\n",
            "Nota final: 0\n"
          ]
        }
      ]
    },
    {
      "cell_type": "code",
      "source": [
        "# Recopilamos la lista de temperaturas mensuales\n",
        "temperaturas_mensuales = []\n",
        "for i in range(0, 12):\n",
        "  temperaturas_mensuales.append(float(input(f'Ingrese la temperatura promedio del mes {i+1}: ')))\n",
        "# Creamos una lista auxiliar para los nombres de los meses\n",
        "meses = ['Enero', 'Febrero', 'Marzo', 'Abril', 'Mayo', 'Junio', 'Julio', 'Agosto', 'Septiembre', 'Octubre', 'Noviembre', 'Diciembre']\n",
        "# Calculamos el promedio\n",
        "media_anual = sum(temperaturas_mensuales) / len(temperaturas_mensuales)\n",
        "\n",
        "# Resultado\n",
        "print('Temperaturas por encima del promedio en: ')\n",
        "for i in range(0, 12):\n",
        "  # Verificamos todas las temperaturas en comparación con la media anual\n",
        "  if temperaturas_mensuales[i] > media_anual:\n",
        "    # Dado que los índices de los meses corresponden a las temperaturas,\n",
        "    # podemos imprimirlos con el mismo índice\n",
        "    print(meses[i])"
      ],
      "metadata": {
        "id": "KCs3cy7ZRsQY",
        "outputId": "15fa8438-61b5-40b8-b37f-2bc4c13ce35a",
        "colab": {
          "base_uri": "https://localhost:8080/"
        }
      },
      "execution_count": 16,
      "outputs": [
        {
          "output_type": "stream",
          "name": "stdout",
          "text": [
            "Ingrese la temperatura promedio del mes 1: 20\n",
            "Ingrese la temperatura promedio del mes 2: 15\n",
            "Ingrese la temperatura promedio del mes 3: 30\n",
            "Ingrese la temperatura promedio del mes 4: 45\n",
            "Ingrese la temperatura promedio del mes 5: 10\n",
            "Ingrese la temperatura promedio del mes 6: 05\n",
            "Ingrese la temperatura promedio del mes 7: 2\n",
            "Ingrese la temperatura promedio del mes 8: 60\n",
            "Ingrese la temperatura promedio del mes 9: 11\n",
            "Ingrese la temperatura promedio del mes 10: 40\n",
            "Ingrese la temperatura promedio del mes 11: 10\n",
            "Ingrese la temperatura promedio del mes 12: 12\n",
            "Temperaturas por encima del promedio en: \n",
            "Marzo\n",
            "Abril\n",
            "Agosto\n",
            "Octubre\n"
          ]
        }
      ]
    },
    {
      "cell_type": "code",
      "source": [
        "# Diccionario de ventas\n",
        "datos_ventas = {'Producto A': 300, 'Producto B': 80, 'Producto C': 60, 'Producto D': 200, 'Producto E': 250, 'Producto F': 30}\n",
        "\n",
        "# Inicializamos las variables\n",
        "total_ventas = 0  # Sumará todas las ventas\n",
        "producto_mas_vendido = ''  # Almacenará el nombre del producto más vendido\n",
        "unidades_producto_mas_vendido = 0  # Almacenará la cantidad más alta de ventas\n",
        "\n",
        "# Recorremos las claves y elementos del diccionario\n",
        "for producto in datos_ventas.keys():\n",
        "    # Sumamos el total de ventas\n",
        "    total_ventas += datos_ventas[producto]\n",
        "    # Verificamos si el valor de ventas actual (datos_ventas[producto]) es mayor que el valor almacenado en unidades_producto_mas_vendido\n",
        "    # Cada vez que datos_ventas[producto] supere el valor en unidades_producto_mas_vendido,\n",
        "    # la variable unidades_producto_mas_vendido será igual a datos_ventas[producto], asignando un nuevo valor\n",
        "    # De manera similar, producto_mas_vendido también se actualiza con el producto actual\n",
        "    if datos_ventas[producto] > unidades_producto_mas_vendido:\n",
        "        unidades_producto_mas_vendido = datos_ventas[producto]\n",
        "        producto_mas_vendido = producto\n",
        "# Resultados\n",
        "print(f'Total de ventas es {total_ventas}')\n",
        "print(f'{producto_mas_vendido} es el más vendido')"
      ],
      "metadata": {
        "id": "gZWVkrU2RsYm",
        "outputId": "6dd5e50a-ebd9-4184-bd53-7a7e302bc1b6",
        "colab": {
          "base_uri": "https://localhost:8080/"
        }
      },
      "execution_count": 17,
      "outputs": [
        {
          "output_type": "stream",
          "name": "stdout",
          "text": [
            "Total de ventas es 920\n",
            "Producto A es el más vendido\n"
          ]
        }
      ]
    },
    {
      "cell_type": "code",
      "source": [
        "# Diccionario de votos por diseño\n",
        "votos = {'Diseño 1': 1334, 'Diseño 2': 982, 'Diseño 3': 1751, 'Diseño 4': 210, 'Diseño 5': 1811}\n",
        "\n",
        "# Inicializamos las variables\n",
        "total_votos = 0  # Sumará todos los votos\n",
        "ganador = ''  # Almacenará el nombre del diseño ganador\n",
        "voto_ganador = 0  # Almacenará la cantidad ganadora de votos\n",
        "\n",
        "# Recorremos las claves y elementos del diccionario\n",
        "for diseño, voto_diseño in votos.items():\n",
        "    # Sumamos el total de votos\n",
        "    total_votos += voto_diseño\n",
        "    # Verificamos si el voto del diseño actual (voto_diseño) es mayor que el valor almacenado en voto_ganador\n",
        "    # Cada vez que voto_diseño supere el valor en voto_ganador,\n",
        "    # la variable voto_ganador será igual a voto_diseño, asignando un nuevo valor\n",
        "    # De manera similar, el ganador también se actualiza con el diseño actual\n",
        "    if voto_diseño > voto_ganador:\n",
        "        voto_ganador = voto_diseño\n",
        "        ganador = diseño\n",
        "# Calculamos el porcentaje del diseño ganador\n",
        "porcentaje = 100 * (voto_ganador) / (total_votos)\n",
        "\n",
        "# Resultado\n",
        "print(f'{ganador} es el ganador: ')\n",
        "print(f'Porcentaje de votos: {porcentaje}%')"
      ],
      "metadata": {
        "id": "U5BHLrNaRsgP",
        "outputId": "51ff9fe7-1376-4765-d431-2bf8c8b6f81f",
        "colab": {
          "base_uri": "https://localhost:8080/"
        }
      },
      "execution_count": 18,
      "outputs": [
        {
          "output_type": "stream",
          "name": "stdout",
          "text": [
            "Diseño 5 es el ganador: \n",
            "Porcentaje de votos: 29.747043363994745%\n"
          ]
        }
      ]
    },
    {
      "cell_type": "code",
      "source": [
        "# Lista de salarios\n",
        "salarios = [1172, 1644, 2617, 5130, 5532, 6341, 6650, 7238, 7685, 7782, 7903]\n",
        "# Inicializamos las variables\n",
        "diccionario_abonos = {}  # Diccionario de abonos\n",
        "total_abono = 0  # Sumará todos los gastos en abonos\n",
        "abonos_minimo = 0  # Almacenará la cantidad de abonos mínimos\n",
        "mayor_abono = 0  # Almacenará el mayor valor de abono\n",
        "\n",
        "# Recorremos toda la lista de salarios\n",
        "for salario in salarios:\n",
        "    # Calculamos el valor teórico del abono\n",
        "    abono = salario * 0.1\n",
        "    # Si el abono es inferior a 200,\n",
        "    # ajustamos el valor del abono al mínimo (200)\n",
        "    if abono < 200:\n",
        "        abono = 200\n",
        "    # Agregamos un nuevo dato en el diccionario con la clave abono\n",
        "    diccionario_abonos[salario] = abono\n",
        "\n",
        "# Recorremos todos los valores del diccionario de abonos\n",
        "for abono in diccionario_abonos.values():\n",
        "    # Contamos los salarios mínimos\n",
        "    if abono == 200:\n",
        "        abonos_minimo += 1\n",
        "    # Verificamos si el abono leído es mayor que el valor almacenado en mayor_abono\n",
        "    # Cada vez que el abono supere el valor de mayor_abono,\n",
        "    # la variable mayor_abono será igual al abono, asignando un nuevo valor\n",
        "    if abono > mayor_abono:\n",
        "        mayor_abono = abono\n",
        "    # Sumamos los abonos\n",
        "    total_abono += abono\n",
        "# Resultados\n",
        "print(f'Abonos: {diccionario_abonos}')\n",
        "print(f'Total de gastos en abonos: {total_abono}')\n",
        "print(f'Número de empleados que recibieron el abono mínimo: {abonos_minimo}')\n",
        "print(f'Mayor valor de abono: {mayor_abono}')"
      ],
      "metadata": {
        "id": "rbj-9UfLRsoH",
        "outputId": "f18b7e5b-bd9a-43d1-81a1-392aaf1bb798",
        "colab": {
          "base_uri": "https://localhost:8080/"
        }
      },
      "execution_count": 19,
      "outputs": [
        {
          "output_type": "stream",
          "name": "stdout",
          "text": [
            "Abonos: {1172: 200, 1644: 200, 2617: 261.7, 5130: 513.0, 5532: 553.2, 6341: 634.1, 6650: 665.0, 7238: 723.8000000000001, 7685: 768.5, 7782: 778.2, 7903: 790.3000000000001}\n",
            "Total de gastos en abonos: 6087.8\n",
            "Número de empleados que recibieron el abono mínimo: 2\n",
            "Mayor valor de abono: 790.3000000000001\n"
          ]
        }
      ]
    },
    {
      "cell_type": "code",
      "source": [
        "# Especificamos los datos para un diccionario\n",
        "datos = {'Área Norte': [2819, 7236],\n",
        "         'Área Este': [1440, 9492],\n",
        "         'Área Sur': [5969, 7496],\n",
        "         'Área Oeste': [14446, 49688],\n",
        "         'Área Centro': [22558, 45148]}\n",
        "# Inicializamos las variables\n",
        "suma_media = 0  # Sumará todos los promedios\n",
        "mayor_diversidad = ''  # Almacenará el área con la mayor diversidad\n",
        "mayor_suma = 0  # Almacenará la mayor suma de especies\n",
        "# Recorremos las claves y elementos del diccionario\n",
        "for área, especies in datos.items():\n",
        "    # Sumamos el número de especies en cada área utilizando la función sum\n",
        "    suma_especies = sum(especies)\n",
        "    # Calculamos el promedio dividiendo la suma de las especies entre la cantidad de especies\n",
        "    media = suma_especies / len(especies)\n",
        "    # Imprimimos\n",
        "    print(f'El {área} tiene un promedio de {media} especies')\n",
        "    # Verificamos si la suma de especies es mayor que el valor almacenado de mayor_suma\n",
        "    # Cada vez que suma_especies supere el valor de mayor_suma,\n",
        "    # la variable mayor_suma será igual a suma_especies, asignando un nuevo valor\n",
        "    # De manera similar, mayor_diversidad también se actualiza\n",
        "    if suma_especies > mayor_suma:\n",
        "        mayor_suma = suma_especies\n",
        "        mayor_diversidad = área\n",
        "    # Sumamos los promedios\n",
        "    suma_media += media\n",
        "# La media total será la suma_media dividida por la cantidad de áreas\n",
        "media_total = suma_media / len(datos)\n",
        "print(f'Media general de especies: {media_total}')\n",
        "print(f'Área con la mayor diversidad biológica: {mayor_diversidad}')"
      ],
      "metadata": {
        "id": "XqO_GGrhRsxu",
        "outputId": "0872a308-ca16-4200-8e1d-51f1cb46ea96",
        "colab": {
          "base_uri": "https://localhost:8080/"
        }
      },
      "execution_count": 20,
      "outputs": [
        {
          "output_type": "stream",
          "name": "stdout",
          "text": [
            "El Área Norte tiene un promedio de 5027.5 especies\n",
            "El Área Este tiene un promedio de 5466.0 especies\n",
            "El Área Sur tiene un promedio de 6732.5 especies\n",
            "El Área Oeste tiene un promedio de 32067.0 especies\n",
            "El Área Centro tiene un promedio de 33853.0 especies\n",
            "Media general de especies: 16629.2\n",
            "Área con la mayor diversidad biológica: Área Centro\n"
          ]
        }
      ]
    },
    {
      "cell_type": "code",
      "source": [
        "# Especificamos los datos para un diccionario\n",
        "datos = {'Sector A': [22, 26, 30, 30, 35, 38, 40, 56, 57, 65],\n",
        "        'Sector B': [22, 24, 26, 33, 41, 49, 50, 54, 60, 64],\n",
        "        'Sector C': [23, 26, 26, 29, 34, 35, 36, 41, 52, 56],\n",
        "        'Sector D': [19, 20, 25, 27, 34, 39, 42, 44, 50, 65]}\n",
        "# Inicializamos la variable que sumará todas las edades\n",
        "total_edades = 0\n",
        "# Recorremos las claves y elementos del diccionario\n",
        "for sector, edades in datos.items():\n",
        "  # Calculamos el promedio dividiendo la suma de las edades entre la cantidad de empleados en cada sector\n",
        "  media_edad = sum(edades) / len(edades)\n",
        "  # Imprimimos\n",
        "  print(f'El {sector} tiene un promedio de {media_edad}')\n",
        "  # Sumamos los promedios\n",
        "  total_edades += sum(edades)\n",
        "# La media total será el total_edades dividido por la cantidad de personas totales (sectores * empleados por sector)\n",
        "media_total = total_edades / (len(edades) * len(datos))\n",
        "print(f'La media de edad general es {media_total}')\n",
        "\n",
        "# Inicializamos la variable que contará a todas las personas con edades por encima de la media\n",
        "arriba_media = 0\n",
        "# Recorremos nuevamente las claves y elementos del diccionario\n",
        "for sector, edades in datos.items():\n",
        "  # Leemos los elementos (edades) dentro de cada lista de edades en el diccionario\n",
        "  for edad in edades:\n",
        "    # Verificamos si el valor de la edad es superior a la media total\n",
        "    if edad > media_total:\n",
        "      # En caso de que el valor de la edad sea superior a la media, incrementamos en uno el contador\n",
        "      arriba_media += 1\n",
        "# Resultado\n",
        "print(f'{arriba_media} personas están por encima de la edad media general')"
      ],
      "metadata": {
        "id": "9bDY3N-CTPMn",
        "outputId": "0b5efd8e-e53d-4485-c664-01903d9d64a7",
        "colab": {
          "base_uri": "https://localhost:8080/"
        }
      },
      "execution_count": 21,
      "outputs": [
        {
          "output_type": "stream",
          "name": "stdout",
          "text": [
            "El Sector A tiene un promedio de 39.9\n",
            "El Sector B tiene un promedio de 42.3\n",
            "El Sector C tiene un promedio de 35.8\n",
            "El Sector D tiene un promedio de 36.5\n",
            "La media de edad general es 38.625\n",
            "18 personas están por encima de la edad media general\n"
          ]
        }
      ]
    }
  ]
}